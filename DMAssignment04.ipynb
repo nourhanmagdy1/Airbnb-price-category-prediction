{
  "cells": [
    {
      "cell_type": "markdown",
      "metadata": {
        "id": "EDXsxYYPui2l"
      },
      "source": [
        "#Airbnb price category prediction"
      ]
    },
    {
      "cell_type": "markdown",
      "metadata": {
        "id": "OwHBxHYvut7H"
      },
      "source": [
        "##Problem Formulation\n",
        "Predict the listing price based on the listing characteristics, in this way to optimize user experience and lower the bar to be a new host.\n"
      ]
    },
    {
      "cell_type": "markdown",
      "metadata": {
        "id": "UqlSktIvWRX0"
      },
      "source": [
        "##Data Loading and Exploring"
      ]
    },
    {
      "cell_type": "code",
      "execution_count": 1,
      "metadata": {
        "colab": {
          "base_uri": "https://localhost:8080/"
        },
        "id": "_GQPo2sOHJZD",
        "outputId": "b7964d1e-a6cb-4632-b917-6aea0f1c04dc"
      },
      "outputs": [
        {
          "output_type": "stream",
          "name": "stdout",
          "text": [
            "Found existing installation: googletrans 3.1.0a0\n",
            "Uninstalling googletrans-3.1.0a0:\n",
            "  Would remove:\n",
            "    /usr/local/bin/translate\n",
            "    /usr/local/lib/python3.7/dist-packages/googletrans-3.1.0a0.dist-info/*\n",
            "    /usr/local/lib/python3.7/dist-packages/googletrans/*\n",
            "Proceed (y/n)? y\n",
            "  Successfully uninstalled googletrans-3.1.0a0\n",
            "Collecting googletrans==3.1.0a0\n",
            "  Using cached googletrans-3.1.0a0-py3-none-any.whl\n",
            "Requirement already satisfied: httpx==0.13.3 in /usr/local/lib/python3.7/dist-packages (from googletrans==3.1.0a0) (0.13.3)\n",
            "Requirement already satisfied: httpcore==0.9.* in /usr/local/lib/python3.7/dist-packages (from httpx==0.13.3->googletrans==3.1.0a0) (0.9.1)\n",
            "Requirement already satisfied: hstspreload in /usr/local/lib/python3.7/dist-packages (from httpx==0.13.3->googletrans==3.1.0a0) (2021.12.1)\n",
            "Requirement already satisfied: rfc3986<2,>=1.3 in /usr/local/lib/python3.7/dist-packages (from httpx==0.13.3->googletrans==3.1.0a0) (1.5.0)\n",
            "Requirement already satisfied: certifi in /usr/local/lib/python3.7/dist-packages (from httpx==0.13.3->googletrans==3.1.0a0) (2021.10.8)\n",
            "Requirement already satisfied: idna==2.* in /usr/local/lib/python3.7/dist-packages (from httpx==0.13.3->googletrans==3.1.0a0) (2.10)\n",
            "Requirement already satisfied: sniffio in /usr/local/lib/python3.7/dist-packages (from httpx==0.13.3->googletrans==3.1.0a0) (1.2.0)\n",
            "Requirement already satisfied: chardet==3.* in /usr/local/lib/python3.7/dist-packages (from httpx==0.13.3->googletrans==3.1.0a0) (3.0.4)\n",
            "Requirement already satisfied: h11<0.10,>=0.8 in /usr/local/lib/python3.7/dist-packages (from httpcore==0.9.*->httpx==0.13.3->googletrans==3.1.0a0) (0.9.0)\n",
            "Requirement already satisfied: h2==3.* in /usr/local/lib/python3.7/dist-packages (from httpcore==0.9.*->httpx==0.13.3->googletrans==3.1.0a0) (3.2.0)\n",
            "Requirement already satisfied: hyperframe<6,>=5.2.0 in /usr/local/lib/python3.7/dist-packages (from h2==3.*->httpcore==0.9.*->httpx==0.13.3->googletrans==3.1.0a0) (5.2.0)\n",
            "Requirement already satisfied: hpack<4,>=3.0 in /usr/local/lib/python3.7/dist-packages (from h2==3.*->httpcore==0.9.*->httpx==0.13.3->googletrans==3.1.0a0) (3.0.0)\n",
            "Installing collected packages: googletrans\n",
            "Successfully installed googletrans-3.1.0a0\n"
          ]
        }
      ],
      "source": [
        "!pip3 uninstall googletrans\n",
        "!pip3 install googletrans==3.1.0a0"
      ]
    },
    {
      "cell_type": "code",
      "execution_count": 2,
      "metadata": {
        "colab": {
          "base_uri": "https://localhost:8080/"
        },
        "id": "8QsmYYJzf5An",
        "outputId": "54a2376e-fe91-4da1-95d0-e85822860e37"
      },
      "outputs": [
        {
          "output_type": "stream",
          "name": "stdout",
          "text": [
            "[nltk_data] Downloading package wordnet to /root/nltk_data...\n",
            "[nltk_data]   Package wordnet is already up-to-date!\n",
            "[nltk_data] Downloading package stopwords to /root/nltk_data...\n",
            "[nltk_data]   Package stopwords is already up-to-date!\n",
            "[nltk_data] Downloading package punkt to /root/nltk_data...\n",
            "[nltk_data]   Package punkt is already up-to-date!\n",
            "[nltk_data] Downloading package stopwords to /root/nltk_data...\n",
            "[nltk_data]   Package stopwords is already up-to-date!\n"
          ]
        }
      ],
      "source": [
        "#import libiraries\n",
        "import os\n",
        "import pandas as pd\n",
        "from tqdm.notebook import tqdm\n",
        "from PIL import Image\n",
        "import pandas as pd\n",
        "import os\n",
        "import numpy as np\n",
        "from ast import literal_eval\n",
        "from bokeh.io import output_notebook\n",
        "from sklearn.feature_extraction.text import TfidfVectorizer\n",
        "from nltk.tokenize import word_tokenize\n",
        "from nltk.corpus import stopwords\n",
        "from nltk.stem.snowball import SnowballStemmer\n",
        "import re\n",
        "import pickle\n",
        "import sklearn\n",
        "import holoviews as hv\n",
        "import nltk \n",
        "from bokeh.io import output_notebook\n",
        "output_notebook()\n",
        "from pathlib import Path\n",
        "from textblob import TextBlob\n",
        "import nltk\n",
        "nltk.download('wordnet')\n",
        "from nltk.corpus import wordnet\n",
        "from nltk.stem import WordNetLemmatizer\n",
        "import nltk\n",
        "nltk.download('stopwords')\n",
        "nltk.download('punkt')\n",
        "nltk.download('stopwords')\n",
        "from nltk.corpus import stopwords"
      ]
    },
    {
      "cell_type": "code",
      "execution_count": 3,
      "metadata": {
        "id": "NIuBvL4sg4iX"
      },
      "outputs": [],
      "source": [
        "#read train and test data\n",
        "data = pd.read_csv('/content/drive/MyDrive/train_xy.csv')\n",
        "test= pd.read_csv('/content/drive/MyDrive/test_x.csv')"
      ]
    },
    {
      "cell_type": "code",
      "execution_count": 4,
      "metadata": {
        "colab": {
          "base_uri": "https://localhost:8080/",
          "height": 423
        },
        "id": "4hibK6OZkt4J",
        "outputId": "4735acd6-9bed-40a8-b61a-31f96010d1f6"
      },
      "outputs": [
        {
          "output_type": "execute_result",
          "data": {
            "text/plain": [
              "                                                summary               image  \\\n",
              "0     Spacious, sunny and cozy modern apartment in t...     img_train/0.jpg   \n",
              "1     Located in one of the most vibrant and accessi...     img_train/1.jpg   \n",
              "2     Logement coquet et douillet à 10 minutes du ce...     img_train/2.jpg   \n",
              "3     Beautiful and spacious (1076 sc ft, / 100 mc) ...     img_train/3.jpg   \n",
              "4     Très grand appartement ''rustique'' et très ag...     img_train/4.jpg   \n",
              "...                                                 ...                 ...   \n",
              "7622  Un grand logement 4 et 1/2, tout inclut, bien ...  img_train/7626.jpg   \n",
              "7623  Magnificent condo directly on the river. You w...  img_train/7627.jpg   \n",
              "7624  This apartment is perfect for anyone visiting ...  img_train/7628.jpg   \n",
              "7625  It is a cozy ,clean ,and comfortable apartment...  img_train/7629.jpg   \n",
              "7626  Modern country style (newly-renovated); open c...  img_train/7630.jpg   \n",
              "\n",
              "           type  price  \n",
              "0     Apartment      1  \n",
              "1     Apartment      0  \n",
              "2     Apartment      1  \n",
              "3     Apartment      1  \n",
              "4     Apartment      0  \n",
              "...         ...    ...  \n",
              "7622  Apartment      0  \n",
              "7623  Apartment      2  \n",
              "7624  Apartment      1  \n",
              "7625  Apartment      0  \n",
              "7626      House      1  \n",
              "\n",
              "[7627 rows x 4 columns]"
            ],
            "text/html": [
              "\n",
              "  <div id=\"df-1fa86e03-a699-4618-8550-a9e824334376\">\n",
              "    <div class=\"colab-df-container\">\n",
              "      <div>\n",
              "<style scoped>\n",
              "    .dataframe tbody tr th:only-of-type {\n",
              "        vertical-align: middle;\n",
              "    }\n",
              "\n",
              "    .dataframe tbody tr th {\n",
              "        vertical-align: top;\n",
              "    }\n",
              "\n",
              "    .dataframe thead th {\n",
              "        text-align: right;\n",
              "    }\n",
              "</style>\n",
              "<table border=\"1\" class=\"dataframe\">\n",
              "  <thead>\n",
              "    <tr style=\"text-align: right;\">\n",
              "      <th></th>\n",
              "      <th>summary</th>\n",
              "      <th>image</th>\n",
              "      <th>type</th>\n",
              "      <th>price</th>\n",
              "    </tr>\n",
              "  </thead>\n",
              "  <tbody>\n",
              "    <tr>\n",
              "      <th>0</th>\n",
              "      <td>Spacious, sunny and cozy modern apartment in t...</td>\n",
              "      <td>img_train/0.jpg</td>\n",
              "      <td>Apartment</td>\n",
              "      <td>1</td>\n",
              "    </tr>\n",
              "    <tr>\n",
              "      <th>1</th>\n",
              "      <td>Located in one of the most vibrant and accessi...</td>\n",
              "      <td>img_train/1.jpg</td>\n",
              "      <td>Apartment</td>\n",
              "      <td>0</td>\n",
              "    </tr>\n",
              "    <tr>\n",
              "      <th>2</th>\n",
              "      <td>Logement coquet et douillet à 10 minutes du ce...</td>\n",
              "      <td>img_train/2.jpg</td>\n",
              "      <td>Apartment</td>\n",
              "      <td>1</td>\n",
              "    </tr>\n",
              "    <tr>\n",
              "      <th>3</th>\n",
              "      <td>Beautiful and spacious (1076 sc ft, / 100 mc) ...</td>\n",
              "      <td>img_train/3.jpg</td>\n",
              "      <td>Apartment</td>\n",
              "      <td>1</td>\n",
              "    </tr>\n",
              "    <tr>\n",
              "      <th>4</th>\n",
              "      <td>Très grand appartement ''rustique'' et très ag...</td>\n",
              "      <td>img_train/4.jpg</td>\n",
              "      <td>Apartment</td>\n",
              "      <td>0</td>\n",
              "    </tr>\n",
              "    <tr>\n",
              "      <th>...</th>\n",
              "      <td>...</td>\n",
              "      <td>...</td>\n",
              "      <td>...</td>\n",
              "      <td>...</td>\n",
              "    </tr>\n",
              "    <tr>\n",
              "      <th>7622</th>\n",
              "      <td>Un grand logement 4 et 1/2, tout inclut, bien ...</td>\n",
              "      <td>img_train/7626.jpg</td>\n",
              "      <td>Apartment</td>\n",
              "      <td>0</td>\n",
              "    </tr>\n",
              "    <tr>\n",
              "      <th>7623</th>\n",
              "      <td>Magnificent condo directly on the river. You w...</td>\n",
              "      <td>img_train/7627.jpg</td>\n",
              "      <td>Apartment</td>\n",
              "      <td>2</td>\n",
              "    </tr>\n",
              "    <tr>\n",
              "      <th>7624</th>\n",
              "      <td>This apartment is perfect for anyone visiting ...</td>\n",
              "      <td>img_train/7628.jpg</td>\n",
              "      <td>Apartment</td>\n",
              "      <td>1</td>\n",
              "    </tr>\n",
              "    <tr>\n",
              "      <th>7625</th>\n",
              "      <td>It is a cozy ,clean ,and comfortable apartment...</td>\n",
              "      <td>img_train/7629.jpg</td>\n",
              "      <td>Apartment</td>\n",
              "      <td>0</td>\n",
              "    </tr>\n",
              "    <tr>\n",
              "      <th>7626</th>\n",
              "      <td>Modern country style (newly-renovated); open c...</td>\n",
              "      <td>img_train/7630.jpg</td>\n",
              "      <td>House</td>\n",
              "      <td>1</td>\n",
              "    </tr>\n",
              "  </tbody>\n",
              "</table>\n",
              "<p>7627 rows × 4 columns</p>\n",
              "</div>\n",
              "      <button class=\"colab-df-convert\" onclick=\"convertToInteractive('df-1fa86e03-a699-4618-8550-a9e824334376')\"\n",
              "              title=\"Convert this dataframe to an interactive table.\"\n",
              "              style=\"display:none;\">\n",
              "        \n",
              "  <svg xmlns=\"http://www.w3.org/2000/svg\" height=\"24px\"viewBox=\"0 0 24 24\"\n",
              "       width=\"24px\">\n",
              "    <path d=\"M0 0h24v24H0V0z\" fill=\"none\"/>\n",
              "    <path d=\"M18.56 5.44l.94 2.06.94-2.06 2.06-.94-2.06-.94-.94-2.06-.94 2.06-2.06.94zm-11 1L8.5 8.5l.94-2.06 2.06-.94-2.06-.94L8.5 2.5l-.94 2.06-2.06.94zm10 10l.94 2.06.94-2.06 2.06-.94-2.06-.94-.94-2.06-.94 2.06-2.06.94z\"/><path d=\"M17.41 7.96l-1.37-1.37c-.4-.4-.92-.59-1.43-.59-.52 0-1.04.2-1.43.59L10.3 9.45l-7.72 7.72c-.78.78-.78 2.05 0 2.83L4 21.41c.39.39.9.59 1.41.59.51 0 1.02-.2 1.41-.59l7.78-7.78 2.81-2.81c.8-.78.8-2.07 0-2.86zM5.41 20L4 18.59l7.72-7.72 1.47 1.35L5.41 20z\"/>\n",
              "  </svg>\n",
              "      </button>\n",
              "      \n",
              "  <style>\n",
              "    .colab-df-container {\n",
              "      display:flex;\n",
              "      flex-wrap:wrap;\n",
              "      gap: 12px;\n",
              "    }\n",
              "\n",
              "    .colab-df-convert {\n",
              "      background-color: #E8F0FE;\n",
              "      border: none;\n",
              "      border-radius: 50%;\n",
              "      cursor: pointer;\n",
              "      display: none;\n",
              "      fill: #1967D2;\n",
              "      height: 32px;\n",
              "      padding: 0 0 0 0;\n",
              "      width: 32px;\n",
              "    }\n",
              "\n",
              "    .colab-df-convert:hover {\n",
              "      background-color: #E2EBFA;\n",
              "      box-shadow: 0px 1px 2px rgba(60, 64, 67, 0.3), 0px 1px 3px 1px rgba(60, 64, 67, 0.15);\n",
              "      fill: #174EA6;\n",
              "    }\n",
              "\n",
              "    [theme=dark] .colab-df-convert {\n",
              "      background-color: #3B4455;\n",
              "      fill: #D2E3FC;\n",
              "    }\n",
              "\n",
              "    [theme=dark] .colab-df-convert:hover {\n",
              "      background-color: #434B5C;\n",
              "      box-shadow: 0px 1px 3px 1px rgba(0, 0, 0, 0.15);\n",
              "      filter: drop-shadow(0px 1px 2px rgba(0, 0, 0, 0.3));\n",
              "      fill: #FFFFFF;\n",
              "    }\n",
              "  </style>\n",
              "\n",
              "      <script>\n",
              "        const buttonEl =\n",
              "          document.querySelector('#df-1fa86e03-a699-4618-8550-a9e824334376 button.colab-df-convert');\n",
              "        buttonEl.style.display =\n",
              "          google.colab.kernel.accessAllowed ? 'block' : 'none';\n",
              "\n",
              "        async function convertToInteractive(key) {\n",
              "          const element = document.querySelector('#df-1fa86e03-a699-4618-8550-a9e824334376');\n",
              "          const dataTable =\n",
              "            await google.colab.kernel.invokeFunction('convertToInteractive',\n",
              "                                                     [key], {});\n",
              "          if (!dataTable) return;\n",
              "\n",
              "          const docLinkHtml = 'Like what you see? Visit the ' +\n",
              "            '<a target=\"_blank\" href=https://colab.research.google.com/notebooks/data_table.ipynb>data table notebook</a>'\n",
              "            + ' to learn more about interactive tables.';\n",
              "          element.innerHTML = '';\n",
              "          dataTable['output_type'] = 'display_data';\n",
              "          await google.colab.output.renderOutput(dataTable, element);\n",
              "          const docLink = document.createElement('div');\n",
              "          docLink.innerHTML = docLinkHtml;\n",
              "          element.appendChild(docLink);\n",
              "        }\n",
              "      </script>\n",
              "    </div>\n",
              "  </div>\n",
              "  "
            ]
          },
          "metadata": {},
          "execution_count": 4
        }
      ],
      "source": [
        "#display train data\n",
        "data"
      ]
    },
    {
      "cell_type": "code",
      "execution_count": 5,
      "metadata": {
        "colab": {
          "base_uri": "https://localhost:8080/"
        },
        "id": "OOAhXbGmvgJ2",
        "outputId": "66d2346e-b8ff-48bd-b58e-ee8e85e322a3"
      },
      "outputs": [
        {
          "output_type": "execute_result",
          "data": {
            "text/plain": [
              "summary    301\n",
              "image        0\n",
              "type         0\n",
              "price        0\n",
              "dtype: int64"
            ]
          },
          "metadata": {},
          "execution_count": 5
        }
      ],
      "source": [
        "#display the no. of nulls in each columns\n",
        "data.isnull().sum().sort_values(ascending=False)"
      ]
    },
    {
      "cell_type": "code",
      "execution_count": 6,
      "metadata": {
        "colab": {
          "base_uri": "https://localhost:8080/"
        },
        "id": "qt01ofj4vpNq",
        "outputId": "bbc6a99f-b3af-4791-8577-b5d3cd8f75e1"
      },
      "outputs": [
        {
          "output_type": "stream",
          "name": "stdout",
          "text": [
            "<class 'pandas.core.frame.DataFrame'>\n",
            "RangeIndex: 7627 entries, 0 to 7626\n",
            "Data columns (total 4 columns):\n",
            " #   Column   Non-Null Count  Dtype \n",
            "---  ------   --------------  ----- \n",
            " 0   summary  7326 non-null   object\n",
            " 1   image    7627 non-null   object\n",
            " 2   type     7627 non-null   object\n",
            " 3   price    7627 non-null   int64 \n",
            "dtypes: int64(1), object(3)\n",
            "memory usage: 238.5+ KB\n"
          ]
        }
      ],
      "source": [
        "#display data information\n",
        "data.info()"
      ]
    },
    {
      "cell_type": "code",
      "execution_count": 7,
      "metadata": {
        "colab": {
          "base_uri": "https://localhost:8080/"
        },
        "id": "kVho9JZ3vs8b",
        "outputId": "461468e8-c49f-43bf-9048-2c9ac9bc6331"
      },
      "outputs": [
        {
          "output_type": "execute_result",
          "data": {
            "text/plain": [
              "0"
            ]
          },
          "metadata": {},
          "execution_count": 7
        }
      ],
      "source": [
        "#check if there is duplicate in data\n",
        "data.duplicated().sum()"
      ]
    },
    {
      "cell_type": "markdown",
      "metadata": {
        "id": "bOVz7eksWYud"
      },
      "source": [
        "##Data Cleaning and Preprocessing"
      ]
    },
    {
      "cell_type": "code",
      "execution_count": 8,
      "metadata": {
        "id": "RwQ0OwhvAQPb"
      },
      "outputs": [],
      "source": [
        "#data['summary']=data.summary.fillna(\"IGNORE TEXT\")\n",
        "data.dropna(inplace=True)"
      ]
    },
    {
      "cell_type": "code",
      "execution_count": 9,
      "metadata": {
        "id": "v1jlrnRQ7MVD"
      },
      "outputs": [],
      "source": [
        "#fill nulls with back values\n",
        "#data['summary']=data['summary'].fillna(method='bfill')"
      ]
    },
    {
      "cell_type": "code",
      "execution_count": 10,
      "metadata": {
        "colab": {
          "base_uri": "https://localhost:8080/"
        },
        "id": "7KEBGpGOU4tS",
        "outputId": "09c5d5de-8edd-4148-a5e0-92bb23516ab8"
      },
      "outputs": [
        {
          "output_type": "execute_result",
          "data": {
            "text/plain": [
              "summary    0\n",
              "image      0\n",
              "type       0\n",
              "price      0\n",
              "dtype: int64"
            ]
          },
          "metadata": {},
          "execution_count": 10
        }
      ],
      "source": [
        "#make sure that the null has been removed\n",
        "data.isnull().sum().sort_values(ascending=False)"
      ]
    },
    {
      "cell_type": "code",
      "execution_count": 11,
      "metadata": {
        "colab": {
          "base_uri": "https://localhost:8080/",
          "height": 423
        },
        "id": "kSx-qaJYBDdM",
        "outputId": "54fd8a90-7338-4e51-fe3e-d91d04ea2771"
      },
      "outputs": [
        {
          "output_type": "execute_result",
          "data": {
            "text/plain": [
              "                                                summary               image  \\\n",
              "0     Spacious, sunny and cozy modern apartment in t...     img_train/0.jpg   \n",
              "1     Located in one of the most vibrant and accessi...     img_train/1.jpg   \n",
              "2     Logement coquet et douillet à 10 minutes du ce...     img_train/2.jpg   \n",
              "3     Beautiful and spacious (1076 sc ft, / 100 mc) ...     img_train/3.jpg   \n",
              "4     Très grand appartement ''rustique'' et très ag...     img_train/4.jpg   \n",
              "...                                                 ...                 ...   \n",
              "7622  Un grand logement 4 et 1/2, tout inclut, bien ...  img_train/7626.jpg   \n",
              "7623  Magnificent condo directly on the river. You w...  img_train/7627.jpg   \n",
              "7624  This apartment is perfect for anyone visiting ...  img_train/7628.jpg   \n",
              "7625  It is a cozy ,clean ,and comfortable apartment...  img_train/7629.jpg   \n",
              "7626  Modern country style (newly-renovated); open c...  img_train/7630.jpg   \n",
              "\n",
              "           type  price  \n",
              "0     Apartment      1  \n",
              "1     Apartment      0  \n",
              "2     Apartment      1  \n",
              "3     Apartment      1  \n",
              "4     Apartment      0  \n",
              "...         ...    ...  \n",
              "7622  Apartment      0  \n",
              "7623  Apartment      2  \n",
              "7624  Apartment      1  \n",
              "7625  Apartment      0  \n",
              "7626      House      1  \n",
              "\n",
              "[7326 rows x 4 columns]"
            ],
            "text/html": [
              "\n",
              "  <div id=\"df-3b3a614a-7383-42a2-8a01-c88cc985c29d\">\n",
              "    <div class=\"colab-df-container\">\n",
              "      <div>\n",
              "<style scoped>\n",
              "    .dataframe tbody tr th:only-of-type {\n",
              "        vertical-align: middle;\n",
              "    }\n",
              "\n",
              "    .dataframe tbody tr th {\n",
              "        vertical-align: top;\n",
              "    }\n",
              "\n",
              "    .dataframe thead th {\n",
              "        text-align: right;\n",
              "    }\n",
              "</style>\n",
              "<table border=\"1\" class=\"dataframe\">\n",
              "  <thead>\n",
              "    <tr style=\"text-align: right;\">\n",
              "      <th></th>\n",
              "      <th>summary</th>\n",
              "      <th>image</th>\n",
              "      <th>type</th>\n",
              "      <th>price</th>\n",
              "    </tr>\n",
              "  </thead>\n",
              "  <tbody>\n",
              "    <tr>\n",
              "      <th>0</th>\n",
              "      <td>Spacious, sunny and cozy modern apartment in t...</td>\n",
              "      <td>img_train/0.jpg</td>\n",
              "      <td>Apartment</td>\n",
              "      <td>1</td>\n",
              "    </tr>\n",
              "    <tr>\n",
              "      <th>1</th>\n",
              "      <td>Located in one of the most vibrant and accessi...</td>\n",
              "      <td>img_train/1.jpg</td>\n",
              "      <td>Apartment</td>\n",
              "      <td>0</td>\n",
              "    </tr>\n",
              "    <tr>\n",
              "      <th>2</th>\n",
              "      <td>Logement coquet et douillet à 10 minutes du ce...</td>\n",
              "      <td>img_train/2.jpg</td>\n",
              "      <td>Apartment</td>\n",
              "      <td>1</td>\n",
              "    </tr>\n",
              "    <tr>\n",
              "      <th>3</th>\n",
              "      <td>Beautiful and spacious (1076 sc ft, / 100 mc) ...</td>\n",
              "      <td>img_train/3.jpg</td>\n",
              "      <td>Apartment</td>\n",
              "      <td>1</td>\n",
              "    </tr>\n",
              "    <tr>\n",
              "      <th>4</th>\n",
              "      <td>Très grand appartement ''rustique'' et très ag...</td>\n",
              "      <td>img_train/4.jpg</td>\n",
              "      <td>Apartment</td>\n",
              "      <td>0</td>\n",
              "    </tr>\n",
              "    <tr>\n",
              "      <th>...</th>\n",
              "      <td>...</td>\n",
              "      <td>...</td>\n",
              "      <td>...</td>\n",
              "      <td>...</td>\n",
              "    </tr>\n",
              "    <tr>\n",
              "      <th>7622</th>\n",
              "      <td>Un grand logement 4 et 1/2, tout inclut, bien ...</td>\n",
              "      <td>img_train/7626.jpg</td>\n",
              "      <td>Apartment</td>\n",
              "      <td>0</td>\n",
              "    </tr>\n",
              "    <tr>\n",
              "      <th>7623</th>\n",
              "      <td>Magnificent condo directly on the river. You w...</td>\n",
              "      <td>img_train/7627.jpg</td>\n",
              "      <td>Apartment</td>\n",
              "      <td>2</td>\n",
              "    </tr>\n",
              "    <tr>\n",
              "      <th>7624</th>\n",
              "      <td>This apartment is perfect for anyone visiting ...</td>\n",
              "      <td>img_train/7628.jpg</td>\n",
              "      <td>Apartment</td>\n",
              "      <td>1</td>\n",
              "    </tr>\n",
              "    <tr>\n",
              "      <th>7625</th>\n",
              "      <td>It is a cozy ,clean ,and comfortable apartment...</td>\n",
              "      <td>img_train/7629.jpg</td>\n",
              "      <td>Apartment</td>\n",
              "      <td>0</td>\n",
              "    </tr>\n",
              "    <tr>\n",
              "      <th>7626</th>\n",
              "      <td>Modern country style (newly-renovated); open c...</td>\n",
              "      <td>img_train/7630.jpg</td>\n",
              "      <td>House</td>\n",
              "      <td>1</td>\n",
              "    </tr>\n",
              "  </tbody>\n",
              "</table>\n",
              "<p>7326 rows × 4 columns</p>\n",
              "</div>\n",
              "      <button class=\"colab-df-convert\" onclick=\"convertToInteractive('df-3b3a614a-7383-42a2-8a01-c88cc985c29d')\"\n",
              "              title=\"Convert this dataframe to an interactive table.\"\n",
              "              style=\"display:none;\">\n",
              "        \n",
              "  <svg xmlns=\"http://www.w3.org/2000/svg\" height=\"24px\"viewBox=\"0 0 24 24\"\n",
              "       width=\"24px\">\n",
              "    <path d=\"M0 0h24v24H0V0z\" fill=\"none\"/>\n",
              "    <path d=\"M18.56 5.44l.94 2.06.94-2.06 2.06-.94-2.06-.94-.94-2.06-.94 2.06-2.06.94zm-11 1L8.5 8.5l.94-2.06 2.06-.94-2.06-.94L8.5 2.5l-.94 2.06-2.06.94zm10 10l.94 2.06.94-2.06 2.06-.94-2.06-.94-.94-2.06-.94 2.06-2.06.94z\"/><path d=\"M17.41 7.96l-1.37-1.37c-.4-.4-.92-.59-1.43-.59-.52 0-1.04.2-1.43.59L10.3 9.45l-7.72 7.72c-.78.78-.78 2.05 0 2.83L4 21.41c.39.39.9.59 1.41.59.51 0 1.02-.2 1.41-.59l7.78-7.78 2.81-2.81c.8-.78.8-2.07 0-2.86zM5.41 20L4 18.59l7.72-7.72 1.47 1.35L5.41 20z\"/>\n",
              "  </svg>\n",
              "      </button>\n",
              "      \n",
              "  <style>\n",
              "    .colab-df-container {\n",
              "      display:flex;\n",
              "      flex-wrap:wrap;\n",
              "      gap: 12px;\n",
              "    }\n",
              "\n",
              "    .colab-df-convert {\n",
              "      background-color: #E8F0FE;\n",
              "      border: none;\n",
              "      border-radius: 50%;\n",
              "      cursor: pointer;\n",
              "      display: none;\n",
              "      fill: #1967D2;\n",
              "      height: 32px;\n",
              "      padding: 0 0 0 0;\n",
              "      width: 32px;\n",
              "    }\n",
              "\n",
              "    .colab-df-convert:hover {\n",
              "      background-color: #E2EBFA;\n",
              "      box-shadow: 0px 1px 2px rgba(60, 64, 67, 0.3), 0px 1px 3px 1px rgba(60, 64, 67, 0.15);\n",
              "      fill: #174EA6;\n",
              "    }\n",
              "\n",
              "    [theme=dark] .colab-df-convert {\n",
              "      background-color: #3B4455;\n",
              "      fill: #D2E3FC;\n",
              "    }\n",
              "\n",
              "    [theme=dark] .colab-df-convert:hover {\n",
              "      background-color: #434B5C;\n",
              "      box-shadow: 0px 1px 3px 1px rgba(0, 0, 0, 0.15);\n",
              "      filter: drop-shadow(0px 1px 2px rgba(0, 0, 0, 0.3));\n",
              "      fill: #FFFFFF;\n",
              "    }\n",
              "  </style>\n",
              "\n",
              "      <script>\n",
              "        const buttonEl =\n",
              "          document.querySelector('#df-3b3a614a-7383-42a2-8a01-c88cc985c29d button.colab-df-convert');\n",
              "        buttonEl.style.display =\n",
              "          google.colab.kernel.accessAllowed ? 'block' : 'none';\n",
              "\n",
              "        async function convertToInteractive(key) {\n",
              "          const element = document.querySelector('#df-3b3a614a-7383-42a2-8a01-c88cc985c29d');\n",
              "          const dataTable =\n",
              "            await google.colab.kernel.invokeFunction('convertToInteractive',\n",
              "                                                     [key], {});\n",
              "          if (!dataTable) return;\n",
              "\n",
              "          const docLinkHtml = 'Like what you see? Visit the ' +\n",
              "            '<a target=\"_blank\" href=https://colab.research.google.com/notebooks/data_table.ipynb>data table notebook</a>'\n",
              "            + ' to learn more about interactive tables.';\n",
              "          element.innerHTML = '';\n",
              "          dataTable['output_type'] = 'display_data';\n",
              "          await google.colab.output.renderOutput(dataTable, element);\n",
              "          const docLink = document.createElement('div');\n",
              "          docLink.innerHTML = docLinkHtml;\n",
              "          element.appendChild(docLink);\n",
              "        }\n",
              "      </script>\n",
              "    </div>\n",
              "  </div>\n",
              "  "
            ]
          },
          "metadata": {},
          "execution_count": 11
        }
      ],
      "source": [
        "data"
      ]
    },
    {
      "cell_type": "markdown",
      "metadata": {
        "id": "mlKIlUQ0reEU"
      },
      "source": [
        "After exploring the data we found that the data include french sentences and english one so we'll translate all text data to english language to be more easier to classify."
      ]
    },
    {
      "cell_type": "code",
      "execution_count": 12,
      "metadata": {
        "id": "JxWu2EgFHUva"
      },
      "outputs": [],
      "source": [
        "from googletrans import Translator\n",
        "translator = Translator()"
      ]
    },
    {
      "cell_type": "code",
      "execution_count": 13,
      "metadata": {
        "id": "2fnlmXeUVCUJ"
      },
      "outputs": [],
      "source": [
        "def t__(text_):\n",
        "  return translator.translate(text_).text"
      ]
    },
    {
      "cell_type": "code",
      "execution_count": 14,
      "metadata": {
        "id": "QRr_MI6EWmJ-"
      },
      "outputs": [],
      "source": [
        "data['summary'] = data['summary'].apply(t__)\n",
        "test['summary'] = test['summary'].apply(t__)"
      ]
    },
    {
      "cell_type": "code",
      "execution_count": 15,
      "metadata": {
        "colab": {
          "base_uri": "https://localhost:8080/"
        },
        "id": "4n-Y77olYYC4",
        "outputId": "78905681-473d-4251-b229-2f695dd06d8c"
      },
      "outputs": [
        {
          "output_type": "execute_result",
          "data": {
            "text/plain": [
              "0       Spacious, sunny and cozy modern apartment in t...\n",
              "1       Located in one of the most vibrant and accessi...\n",
              "2       Pretty and cozy accommodation 10 minutes from ...\n",
              "3       Beautiful and spacious (1076 sc ft, / 100 mc) ...\n",
              "4       Very large ''rustic'' and very pleasant apartm...\n",
              "                              ...                        \n",
              "7622    A large 4 and 1/2 apartment, all inclusive, we...\n",
              "7623    Magnificent condo directly on the river. You w...\n",
              "7624    This apartment is perfect for anyone visiting ...\n",
              "7625    It is a cozy ,clean ,and comfortable apartment...\n",
              "7626    Modern country style (newly-renovated); open c...\n",
              "Name: summary, Length: 7326, dtype: object"
            ]
          },
          "metadata": {},
          "execution_count": 15
        }
      ],
      "source": [
        "#display data after translation\n",
        "data['summary']"
      ]
    },
    {
      "cell_type": "code",
      "execution_count": 16,
      "metadata": {
        "colab": {
          "base_uri": "https://localhost:8080/"
        },
        "id": "GdoJag3l3oz_",
        "outputId": "672bb2e1-6c50-4c82-b13a-877656a5d5fc"
      },
      "outputs": [
        {
          "output_type": "stream",
          "name": "stdout",
          "text": [
            "Collecting langdetect\n",
            "  Downloading langdetect-1.0.9.tar.gz (981 kB)\n",
            "\u001b[?25l\r\u001b[K     |▍                               | 10 kB 25.4 MB/s eta 0:00:01\r\u001b[K     |▊                               | 20 kB 33.5 MB/s eta 0:00:01\r\u001b[K     |█                               | 30 kB 20.5 MB/s eta 0:00:01\r\u001b[K     |█▍                              | 40 kB 14.3 MB/s eta 0:00:01\r\u001b[K     |█▊                              | 51 kB 12.7 MB/s eta 0:00:01\r\u001b[K     |██                              | 61 kB 14.9 MB/s eta 0:00:01\r\u001b[K     |██▍                             | 71 kB 11.4 MB/s eta 0:00:01\r\u001b[K     |██▊                             | 81 kB 12.6 MB/s eta 0:00:01\r\u001b[K     |███                             | 92 kB 14.0 MB/s eta 0:00:01\r\u001b[K     |███▍                            | 102 kB 12.9 MB/s eta 0:00:01\r\u001b[K     |███▊                            | 112 kB 12.9 MB/s eta 0:00:01\r\u001b[K     |████                            | 122 kB 12.9 MB/s eta 0:00:01\r\u001b[K     |████▍                           | 133 kB 12.9 MB/s eta 0:00:01\r\u001b[K     |████▊                           | 143 kB 12.9 MB/s eta 0:00:01\r\u001b[K     |█████                           | 153 kB 12.9 MB/s eta 0:00:01\r\u001b[K     |█████▍                          | 163 kB 12.9 MB/s eta 0:00:01\r\u001b[K     |█████▊                          | 174 kB 12.9 MB/s eta 0:00:01\r\u001b[K     |██████                          | 184 kB 12.9 MB/s eta 0:00:01\r\u001b[K     |██████▍                         | 194 kB 12.9 MB/s eta 0:00:01\r\u001b[K     |██████▊                         | 204 kB 12.9 MB/s eta 0:00:01\r\u001b[K     |███████                         | 215 kB 12.9 MB/s eta 0:00:01\r\u001b[K     |███████▍                        | 225 kB 12.9 MB/s eta 0:00:01\r\u001b[K     |███████▊                        | 235 kB 12.9 MB/s eta 0:00:01\r\u001b[K     |████████                        | 245 kB 12.9 MB/s eta 0:00:01\r\u001b[K     |████████▍                       | 256 kB 12.9 MB/s eta 0:00:01\r\u001b[K     |████████▊                       | 266 kB 12.9 MB/s eta 0:00:01\r\u001b[K     |█████████                       | 276 kB 12.9 MB/s eta 0:00:01\r\u001b[K     |█████████▍                      | 286 kB 12.9 MB/s eta 0:00:01\r\u001b[K     |█████████▊                      | 296 kB 12.9 MB/s eta 0:00:01\r\u001b[K     |██████████                      | 307 kB 12.9 MB/s eta 0:00:01\r\u001b[K     |██████████▍                     | 317 kB 12.9 MB/s eta 0:00:01\r\u001b[K     |██████████▊                     | 327 kB 12.9 MB/s eta 0:00:01\r\u001b[K     |███████████                     | 337 kB 12.9 MB/s eta 0:00:01\r\u001b[K     |███████████▍                    | 348 kB 12.9 MB/s eta 0:00:01\r\u001b[K     |███████████▊                    | 358 kB 12.9 MB/s eta 0:00:01\r\u001b[K     |████████████                    | 368 kB 12.9 MB/s eta 0:00:01\r\u001b[K     |████████████▍                   | 378 kB 12.9 MB/s eta 0:00:01\r\u001b[K     |████████████▊                   | 389 kB 12.9 MB/s eta 0:00:01\r\u001b[K     |█████████████                   | 399 kB 12.9 MB/s eta 0:00:01\r\u001b[K     |█████████████▍                  | 409 kB 12.9 MB/s eta 0:00:01\r\u001b[K     |█████████████▊                  | 419 kB 12.9 MB/s eta 0:00:01\r\u001b[K     |██████████████                  | 430 kB 12.9 MB/s eta 0:00:01\r\u001b[K     |██████████████▍                 | 440 kB 12.9 MB/s eta 0:00:01\r\u001b[K     |██████████████▊                 | 450 kB 12.9 MB/s eta 0:00:01\r\u001b[K     |███████████████                 | 460 kB 12.9 MB/s eta 0:00:01\r\u001b[K     |███████████████▍                | 471 kB 12.9 MB/s eta 0:00:01\r\u001b[K     |███████████████▊                | 481 kB 12.9 MB/s eta 0:00:01\r\u001b[K     |████████████████                | 491 kB 12.9 MB/s eta 0:00:01\r\u001b[K     |████████████████▍               | 501 kB 12.9 MB/s eta 0:00:01\r\u001b[K     |████████████████▊               | 512 kB 12.9 MB/s eta 0:00:01\r\u001b[K     |█████████████████               | 522 kB 12.9 MB/s eta 0:00:01\r\u001b[K     |█████████████████▍              | 532 kB 12.9 MB/s eta 0:00:01\r\u001b[K     |█████████████████▊              | 542 kB 12.9 MB/s eta 0:00:01\r\u001b[K     |██████████████████              | 552 kB 12.9 MB/s eta 0:00:01\r\u001b[K     |██████████████████▍             | 563 kB 12.9 MB/s eta 0:00:01\r\u001b[K     |██████████████████▊             | 573 kB 12.9 MB/s eta 0:00:01\r\u001b[K     |███████████████████             | 583 kB 12.9 MB/s eta 0:00:01\r\u001b[K     |███████████████████▍            | 593 kB 12.9 MB/s eta 0:00:01\r\u001b[K     |███████████████████▊            | 604 kB 12.9 MB/s eta 0:00:01\r\u001b[K     |████████████████████            | 614 kB 12.9 MB/s eta 0:00:01\r\u001b[K     |████████████████████▍           | 624 kB 12.9 MB/s eta 0:00:01\r\u001b[K     |████████████████████▊           | 634 kB 12.9 MB/s eta 0:00:01\r\u001b[K     |█████████████████████           | 645 kB 12.9 MB/s eta 0:00:01\r\u001b[K     |█████████████████████▍          | 655 kB 12.9 MB/s eta 0:00:01\r\u001b[K     |█████████████████████▊          | 665 kB 12.9 MB/s eta 0:00:01\r\u001b[K     |██████████████████████          | 675 kB 12.9 MB/s eta 0:00:01\r\u001b[K     |██████████████████████▍         | 686 kB 12.9 MB/s eta 0:00:01\r\u001b[K     |██████████████████████▊         | 696 kB 12.9 MB/s eta 0:00:01\r\u001b[K     |███████████████████████         | 706 kB 12.9 MB/s eta 0:00:01\r\u001b[K     |███████████████████████▍        | 716 kB 12.9 MB/s eta 0:00:01\r\u001b[K     |███████████████████████▊        | 727 kB 12.9 MB/s eta 0:00:01\r\u001b[K     |████████████████████████        | 737 kB 12.9 MB/s eta 0:00:01\r\u001b[K     |████████████████████████▍       | 747 kB 12.9 MB/s eta 0:00:01\r\u001b[K     |████████████████████████▊       | 757 kB 12.9 MB/s eta 0:00:01\r\u001b[K     |█████████████████████████       | 768 kB 12.9 MB/s eta 0:00:01\r\u001b[K     |█████████████████████████▍      | 778 kB 12.9 MB/s eta 0:00:01\r\u001b[K     |█████████████████████████▊      | 788 kB 12.9 MB/s eta 0:00:01\r\u001b[K     |██████████████████████████      | 798 kB 12.9 MB/s eta 0:00:01\r\u001b[K     |██████████████████████████▍     | 808 kB 12.9 MB/s eta 0:00:01\r\u001b[K     |██████████████████████████▊     | 819 kB 12.9 MB/s eta 0:00:01\r\u001b[K     |███████████████████████████     | 829 kB 12.9 MB/s eta 0:00:01\r\u001b[K     |███████████████████████████▍    | 839 kB 12.9 MB/s eta 0:00:01\r\u001b[K     |███████████████████████████▊    | 849 kB 12.9 MB/s eta 0:00:01\r\u001b[K     |████████████████████████████    | 860 kB 12.9 MB/s eta 0:00:01\r\u001b[K     |████████████████████████████▍   | 870 kB 12.9 MB/s eta 0:00:01\r\u001b[K     |████████████████████████████▊   | 880 kB 12.9 MB/s eta 0:00:01\r\u001b[K     |█████████████████████████████   | 890 kB 12.9 MB/s eta 0:00:01\r\u001b[K     |█████████████████████████████▍  | 901 kB 12.9 MB/s eta 0:00:01\r\u001b[K     |█████████████████████████████▊  | 911 kB 12.9 MB/s eta 0:00:01\r\u001b[K     |██████████████████████████████  | 921 kB 12.9 MB/s eta 0:00:01\r\u001b[K     |██████████████████████████████▍ | 931 kB 12.9 MB/s eta 0:00:01\r\u001b[K     |██████████████████████████████▊ | 942 kB 12.9 MB/s eta 0:00:01\r\u001b[K     |███████████████████████████████ | 952 kB 12.9 MB/s eta 0:00:01\r\u001b[K     |███████████████████████████████▍| 962 kB 12.9 MB/s eta 0:00:01\r\u001b[K     |███████████████████████████████▊| 972 kB 12.9 MB/s eta 0:00:01\r\u001b[K     |████████████████████████████████| 981 kB 12.9 MB/s \n",
            "\u001b[?25hRequirement already satisfied: six in /usr/local/lib/python3.7/dist-packages (from langdetect) (1.15.0)\n",
            "Building wheels for collected packages: langdetect\n",
            "  Building wheel for langdetect (setup.py) ... \u001b[?25l\u001b[?25hdone\n",
            "  Created wheel for langdetect: filename=langdetect-1.0.9-py3-none-any.whl size=993242 sha256=a089f757d3f3abe45f5334183125baf26d1cc6bd63108c01ae4380e15eb34679\n",
            "  Stored in directory: /root/.cache/pip/wheels/c5/96/8a/f90c59ed25d75e50a8c10a1b1c2d4c402e4dacfa87f3aff36a\n",
            "Successfully built langdetect\n",
            "Installing collected packages: langdetect\n",
            "Successfully installed langdetect-1.0.9\n"
          ]
        }
      ],
      "source": [
        "!pip install langdetect"
      ]
    },
    {
      "cell_type": "code",
      "execution_count": 17,
      "metadata": {
        "id": "ZIFix6Ei2PrW"
      },
      "outputs": [],
      "source": [
        "from langdetect import detect\n",
        "def det_lang(x):\n",
        "    try:\n",
        "        lang = detect(x)\n",
        "    except:\n",
        "        lang = 'Other'\n",
        "    return lang"
      ]
    },
    {
      "cell_type": "code",
      "execution_count": 18,
      "metadata": {
        "id": "UJhgX6zo2RVl",
        "colab": {
          "base_uri": "https://localhost:8080/"
        },
        "outputId": "58b1da21-1998-4aee-9461-a0113b287016"
      },
      "outputs": [
        {
          "output_type": "execute_result",
          "data": {
            "text/plain": [
              "0       en\n",
              "1       en\n",
              "2       en\n",
              "3       en\n",
              "4       en\n",
              "        ..\n",
              "7622    en\n",
              "7623    en\n",
              "7624    en\n",
              "7625    en\n",
              "7626    en\n",
              "Name: new, Length: 7326, dtype: object"
            ]
          },
          "metadata": {},
          "execution_count": 18
        }
      ],
      "source": [
        "data['new'] = data['summary'].apply(det_lang)\n",
        "data['new']"
      ]
    },
    {
      "cell_type": "code",
      "execution_count": 19,
      "metadata": {
        "id": "BiaLGINX2oIL",
        "colab": {
          "base_uri": "https://localhost:8080/"
        },
        "outputId": "4fc49fb4-3d6f-4d97-d22f-8a0c2a9868be"
      },
      "outputs": [
        {
          "output_type": "execute_result",
          "data": {
            "text/plain": [
              "en    7304\n",
              "fr       6\n",
              "de       5\n",
              "ro       3\n",
              "af       2\n",
              "it       1\n",
              "da       1\n",
              "es       1\n",
              "vi       1\n",
              "no       1\n",
              "sv       1\n",
              "Name: new, dtype: int64"
            ]
          },
          "metadata": {},
          "execution_count": 19
        }
      ],
      "source": [
        "data['new'].value_counts()"
      ]
    },
    {
      "cell_type": "markdown",
      "metadata": {
        "id": "chA7UIm2r_aw"
      },
      "source": [
        "We see that data include outliers and noise, so we'll clean it, lemmatize some words and remove stop words."
      ]
    },
    {
      "cell_type": "code",
      "execution_count": 20,
      "metadata": {
        "id": "O6QS5x0DoDua",
        "colab": {
          "base_uri": "https://localhost:8080/"
        },
        "outputId": "ed2e465e-ce92-495e-9a4d-e9d74cd96785"
      },
      "outputs": [
        {
          "output_type": "stream",
          "name": "stdout",
          "text": [
            "[nltk_data] Downloading package wordnet to /root/nltk_data...\n",
            "[nltk_data]   Package wordnet is already up-to-date!\n",
            "[nltk_data] Downloading package omw-1.4 to /root/nltk_data...\n",
            "[nltk_data]   Unzipping corpora/omw-1.4.zip.\n",
            "[nltk_data] Downloading package punkt to /root/nltk_data...\n",
            "[nltk_data]   Package punkt is already up-to-date!\n",
            "[nltk_data] Downloading package stopwords to /root/nltk_data...\n",
            "[nltk_data]   Package stopwords is already up-to-date!\n"
          ]
        }
      ],
      "source": [
        "from bokeh.io import output_notebook\n",
        "from sklearn.feature_extraction.text import TfidfVectorizer\n",
        "from nltk.tokenize import word_tokenize\n",
        "from nltk.corpus import stopwords\n",
        "from nltk.stem.snowball import SnowballStemmer\n",
        "import re\n",
        "import pickle\n",
        "import sklearn\n",
        "import holoviews as hv\n",
        "import nltk \n",
        "from bokeh.io import output_notebook\n",
        "output_notebook()\n",
        "from pathlib import Path\n",
        "from textblob import TextBlob\n",
        "import nltk\n",
        "nltk.download('wordnet')\n",
        "from nltk.corpus import wordnet\n",
        "from nltk.stem import WordNetLemmatizer\n",
        "nltk.download('omw-1.4')\n",
        "nltk.download('punkt')\n",
        "nltk.download('stopwords')\n",
        "\n",
        "lemmatizer = WordNetLemmatizer() \n",
        "stemmer = SnowballStemmer(\"english\")\n",
        "stop_words = set(stopwords.words(\"english\"))\n",
        "\n",
        "\n",
        "def clean_text(text, for_embedding=False):\n",
        "    \"\"\" steps:\n",
        "        - remove any html tags (< /br> often found)\n",
        "        - Keep only ASCII + European Chars and whitespace, no digits\n",
        "        - remove single letter chars\n",
        "        - convert all whitespaces (tabs etc.) to single wspace\n",
        "        if not for embedding (but e.g. tdf-idf):\n",
        "        - all lowercase\n",
        "        - remove stopwords, punctuation and stemm\n",
        "    \"\"\"\n",
        "    RE_WSPACE = re.compile(r\"\\s+\", re.IGNORECASE)\n",
        "    RE_TAGS = re.compile(r\"<[^>]+>\")\n",
        "    RE_ASCII = re.compile(r\"[^A-Za-zÀ-ž ]\", re.IGNORECASE)\n",
        "    RE_SINGLECHAR = re.compile(r\"\\b[A-Za-zÀ-ž]\\b\", re.IGNORECASE)\n",
        "    if for_embedding:\n",
        "        # Keep punctuation\n",
        "        RE_ASCII = re.compile(r\"[^A-Za-zÀ-ž,.!? ]\", re.IGNORECASE)\n",
        "        RE_SINGLECHAR = re.compile(r\"\\b[A-Za-zÀ-ž,.!?]\\b\", re.IGNORECASE)\n",
        "\n",
        "    text = re.sub(RE_TAGS, \" \", text)\n",
        "    text = re.sub(RE_ASCII, \" \", text)\n",
        "    text = re.sub(RE_SINGLECHAR, \" \", text)\n",
        "    text = re.sub(RE_WSPACE, \" \", text)\n",
        "\n",
        "    word_tokens = word_tokenize(text)\n",
        "    words_tokens_lower = [word.lower() for word in word_tokens]\n",
        "\n",
        "    if for_embedding:\n",
        "        # no lemmatizing, lowering and punctuation / stop words removal\n",
        "        words_filtered = word_tokens\n",
        "    else:\n",
        "        words_filtered = [\n",
        "            lemmatizer.lemmatize(word) for word in words_tokens_lower if word not in stop_words\n",
        "        ]\n",
        "\n",
        "    text_clean = \" \".join(words_filtered)\n",
        "    return text_clean"
      ]
    },
    {
      "cell_type": "code",
      "execution_count": 21,
      "metadata": {
        "id": "8lrjGNatpTLF"
      },
      "outputs": [],
      "source": [
        "# Clean summary in train data\n",
        "data[\"summary\"] = data.loc[data[\"summary\"].str.len() > 0, \"summary\"]\n",
        "data[\"summary\"] = data[\"summary\"].map(\n",
        "    lambda x: clean_text(x, for_embedding=False) if isinstance(x, str) else x)\n",
        "\n",
        "# Clean summary in test data\n",
        "test[\"summary\"] = test.loc[test[\"summary\"].str.len() > 0, \"summary\"]\n",
        "test[\"summary\"] = test[\"summary\"].map(\n",
        "    lambda x: clean_text(x, for_embedding=False) if isinstance(x, str) else x)"
      ]
    },
    {
      "cell_type": "code",
      "execution_count": 22,
      "metadata": {
        "id": "bmBqqeAjo2WD",
        "colab": {
          "base_uri": "https://localhost:8080/"
        },
        "outputId": "190dacd6-69f4-4128-d6ab-d87a10e71575"
      },
      "outputs": [
        {
          "output_type": "execute_result",
          "data": {
            "text/plain": [
              "(0       spacious sunny cozy modern apartment heart mon...\n",
              " 1       located one vibrant accessible location downto...\n",
              " 2       pretty cozy accommodation minute downtown mont...\n",
              " 3       beautiful spacious sc ft mc condo th floor wes...\n",
              " 4       large rustic pleasant apartment rent nice neig...\n",
              "                               ...                        \n",
              " 7622    large apartment inclusive well lit located qui...\n",
              " 7623    magnificent condo directly river sleep song wi...\n",
              " 7624    apartment perfect anyone visiting city located...\n",
              " 7625    cozy clean comfortable apartment heart downtow...\n",
              " 7626    modern country style newly renovated open conc...\n",
              " Name: summary, Length: 7326, dtype: object,\n",
              " 0       charming warm house ready host multi cultural ...\n",
              " 1       room spacious bright apartment shared three ro...\n",
              " 2       large comfortable room located basement house ...\n",
              " 3       near metro orange line minute walking ahuntsic...\n",
              " 4       bright appartment cosy separate bedroom queen ...\n",
              "                               ...                        \n",
              " 7355    large fully furnished flat brick wall hardwood...\n",
              " 7356    accommodation located top duplex live charm mo...\n",
              " 7357                   place close park place good couple\n",
              " 7358    security reason prioritize guest review thank ...\n",
              " 7359    stay amazing area montreal min downtown easy a...\n",
              " Name: summary, Length: 7360, dtype: object)"
            ]
          },
          "metadata": {},
          "execution_count": 22
        }
      ],
      "source": [
        "#display train and test data after cleaning\n",
        "data['summary'], test['summary']"
      ]
    },
    {
      "cell_type": "code",
      "execution_count": 23,
      "metadata": {
        "id": "ofEZMo4alBkr"
      },
      "outputs": [],
      "source": [
        "from sklearn.model_selection import train_test_split\n",
        "\n",
        "#convert labels to categories\n",
        "data['type'] = data.type.astype('category').cat.codes\n",
        "len_type = len(data.type.unique())\n",
        "len_price = len(data.price.unique())\n",
        "\n",
        "# split data (training/validation set)\n",
        "data_train, data_test = train_test_split(data, test_size=0.2, random_state=1024)"
      ]
    },
    {
      "cell_type": "code",
      "execution_count": 24,
      "metadata": {
        "id": "DZ8cZLZMigWy",
        "colab": {
          "base_uri": "https://localhost:8080/",
          "height": 0,
          "referenced_widgets": [
            "b1f080843a7a41c7af9f60977efd64f0",
            "09ae3f1904674e818c954a6f6a34860b",
            "00147f3bff884fadbc7a020a07ad06de",
            "677501caf94f46978203c8cc6ae653d5",
            "e2dcc50ca0c74c908a20079b05d72373",
            "9b420a6c7e5940298c56f61ce74150ce",
            "4903ea481e484b679c042a03b0c651b1",
            "42e4b066144e46efbbe3134b57297719",
            "d48f843d9be2437e8f4e0be8d006b927",
            "b942d61602af40f289e3d18ceb29ab74",
            "be8153665071458baf5469b1e899791c"
          ]
        },
        "outputId": "96d09e49-d4e4-4390-e1bd-2b668918e25f"
      },
      "outputs": [
        {
          "output_type": "display_data",
          "data": {
            "text/plain": [
              "  0%|          | 0/5860 [00:00<?, ?it/s]"
            ],
            "application/vnd.jupyter.widget-view+json": {
              "version_major": 2,
              "version_minor": 0,
              "model_id": "b1f080843a7a41c7af9f60977efd64f0"
            }
          },
          "metadata": {}
        }
      ],
      "source": [
        "# preprocess image data\n",
        "import os\n",
        "\n",
        "def load_image(file):\n",
        "    try:\n",
        "        image = Image.open(\n",
        "            file\n",
        "        ).convert('LA').resize((64, 64))\n",
        "        arr = np.array(image)\n",
        "    except:\n",
        "        arr = np.zeros((64, 64, 2))\n",
        "    return arr\n",
        "\n",
        "\n",
        "# loading images:\n",
        "x_train_image = np.array([load_image(i) for i in tqdm(data_train.image)])\n",
        "\n",
        "# loading overview: (force convert some of the non-string cell to string)\n",
        "x_train_text = data_train.summary.astype('str')\n",
        "\n",
        "# get type(label)\n",
        "y_train_type = data_train.type\n",
        "\n",
        "# get price\n",
        "y_train_price = data_train.price"
      ]
    },
    {
      "cell_type": "code",
      "execution_count": 25,
      "metadata": {
        "id": "iORrHaDRmyL1",
        "colab": {
          "base_uri": "https://localhost:8080/"
        },
        "outputId": "cd00b795-09b2-44ad-931d-502cb71fc283"
      },
      "outputs": [
        {
          "output_type": "execute_result",
          "data": {
            "text/plain": [
              "(7106    fully geared kitchen near major subway line pl...\n",
              " 5556    house located lovely notre dame de grâce neigh...\n",
              " 1822    room rent part bedroom apartment cote de neige...\n",
              " 5215    live apartment côte de neiges near park kent u...\n",
              " 604     warm bed sofa bed well located close parc bald...\n",
              "                               ...                        \n",
              " 2773    good large app sunny bedroom person well locat...\n",
              " 2645    beautiful bedroom bathroom condo charming neig...\n",
              " 7032    bedroom apartment patio quiet apartment buildi...\n",
              " 949     nice room closet hang store thing plenty light...\n",
              " 6324    newly renovated apartment heart vibrant platea...\n",
              " Name: summary, Length: 5860, dtype: object, 7106     1\n",
              " 5556    22\n",
              " 1822     1\n",
              " 5215     1\n",
              " 604      1\n",
              "         ..\n",
              " 2773     1\n",
              " 2645    10\n",
              " 7032    10\n",
              " 949     22\n",
              " 6324    10\n",
              " Name: type, Length: 5860, dtype: int8, 7106    1\n",
              " 5556    0\n",
              " 1822    0\n",
              " 5215    0\n",
              " 604     0\n",
              "        ..\n",
              " 2773    0\n",
              " 2645    1\n",
              " 7032    1\n",
              " 949     0\n",
              " 6324    1\n",
              " Name: price, Length: 5860, dtype: int64)"
            ]
          },
          "metadata": {},
          "execution_count": 25
        }
      ],
      "source": [
        "#display data after splitting\n",
        "x_train_text,y_train_type, y_train_price"
      ]
    },
    {
      "cell_type": "code",
      "execution_count": 26,
      "metadata": {
        "id": "wCj7sMlD4IP6",
        "colab": {
          "base_uri": "https://localhost:8080/"
        },
        "outputId": "082039db-f7c1-4bd8-c6fb-45e9bc9bc9c4"
      },
      "outputs": [
        {
          "output_type": "stream",
          "name": "stdout",
          "text": [
            "[[  34 4106   20 ...    0    0    0]\n",
            " [  99    5  268 ...    0    0    0]\n",
            " [   6  232  283 ...    0    0    0]\n",
            " ...\n",
            " [  11    1  437 ...    0    0    0]\n",
            " [  76    6  424 ...    0    0    0]\n",
            " [ 207   69    1 ...    0    0    0]]\n"
          ]
        }
      ],
      "source": [
        "# preprocess text data\n",
        "\n",
        "from tensorflow.keras.preprocessing.text import Tokenizer\n",
        "from tensorflow.keras.preprocessing.sequence import pad_sequences\n",
        "from sklearn.model_selection import train_test_split\n",
        "from pprint import pprint\n",
        "\n",
        "vocab_size = 80000\n",
        "max_len = 300\n",
        "\n",
        "\n",
        "# build vocabulary from training set\n",
        "tokenizer = Tokenizer(num_words=vocab_size)\n",
        "tokenizer.fit_on_texts(x_train_text)\n",
        "\n",
        "def _preprocess(list_of_text):\n",
        "    return pad_sequences(\n",
        "        tokenizer.texts_to_sequences(list_of_text),\n",
        "        maxlen=max_len,\n",
        "        padding='post',\n",
        "      \n",
        "    )\n",
        "    \n",
        "\n",
        "# padding is done inside: \n",
        "x_train_text_id = _preprocess(x_train_text)\n",
        "\n",
        "print(x_train_text_id)"
      ]
    },
    {
      "cell_type": "markdown",
      "metadata": {
        "id": "L11M5xUXxgNX"
      },
      "source": [
        "Now data is ready to train"
      ]
    },
    {
      "cell_type": "markdown",
      "metadata": {
        "id": "PMvTLfR7T4XN"
      },
      "source": [
        "##Trial 1\n",
        "Multi-modality learning with Multi-objective learning and Conv2D.\n",
        "\n",
        "This is the first trial and I have no expectations yet.\n",
        "\n",
        "Let's try."
      ]
    },
    {
      "cell_type": "code",
      "execution_count": 27,
      "metadata": {
        "id": "gACz2KeP57_8",
        "colab": {
          "base_uri": "https://localhost:8080/"
        },
        "outputId": "2e5ebc94-f0b7-47ab-89e2-f305a2462e0d"
      },
      "outputs": [
        {
          "output_type": "stream",
          "name": "stdout",
          "text": [
            "Model: \"model\"\n",
            "__________________________________________________________________________________________________\n",
            " Layer (type)                   Output Shape         Param #     Connected to                     \n",
            "==================================================================================================\n",
            " input_2 (InputLayer)           [(None, 64, 64, 2)]  0           []                               \n",
            "                                                                                                  \n",
            " input_1 (InputLayer)           [(None, 300)]        0           []                               \n",
            "                                                                                                  \n",
            " conv2d (Conv2D)                (None, 49, 49, 64)   32832       ['input_2[0][0]']                \n",
            "                                                                                                  \n",
            " embedding (Embedding)          (None, 300, 300)     24000000    ['input_1[0][0]']                \n",
            "                                                                                                  \n",
            " max_pooling2d (MaxPooling2D)   (None, 3, 3, 64)     0           ['conv2d[0][0]']                 \n",
            "                                                                                                  \n",
            " tf.math.reduce_mean (TFOpLambd  (None, 300)         0           ['embedding[0][0]']              \n",
            " a)                                                                                               \n",
            "                                                                                                  \n",
            " flatten (Flatten)              (None, 576)          0           ['max_pooling2d[0][0]']          \n",
            "                                                                                                  \n",
            " tf.concat (TFOpLambda)         (None, 876)          0           ['tf.math.reduce_mean[0][0]',    \n",
            "                                                                  'flatten[0][0]']                \n",
            "                                                                                                  \n",
            " price (Dense)                  (None, 3)            2631        ['tf.concat[0][0]']              \n",
            "                                                                                                  \n",
            " type (Dense)                   (None, 24)           21048       ['tf.concat[0][0]']              \n",
            "                                                                                                  \n",
            "==================================================================================================\n",
            "Total params: 24,056,511\n",
            "Trainable params: 24,056,511\n",
            "Non-trainable params: 0\n",
            "__________________________________________________________________________________________________\n"
          ]
        }
      ],
      "source": [
        "from __future__ import absolute_import, division, print_function, unicode_literals\n",
        "import collections\n",
        "import matplotlib.pyplot as plt\n",
        "import numpy as np\n",
        "import tensorflow as tf\n",
        "from tensorflow import keras\n",
        "from tensorflow.keras.layers import Conv2D, Flatten, Dense, MaxPool2D,LSTM ,MultiHeadAttention,Bidirectional\n",
        "from tensorflow.keras.optimizers import Adam\n",
        "from keras.layers.core import Dense, SpatialDropout1D\n",
        "from keras.layers import SimpleRNN\n",
        "# here we have two inputs. one for image and the other for text.\n",
        "in_text = keras.Input(batch_shape=(None, max_len))\n",
        "in_image = keras.Input(batch_shape=(None, 64, 64, 2))\n",
        "\n",
        "# text part\n",
        "# simple average of embedding\n",
        "embedded = keras.layers.Embedding(tokenizer.num_words, 300)(in_text)\n",
        "averaged = tf.reduce_mean(embedded, axis=1)\n",
        "\n",
        "# image part \n",
        "# simple conv2D\n",
        "cov = Conv2D(64, (16, 16))(in_image)\n",
        "pl = MaxPool2D((16, 16))(cov)\n",
        "flattened = Flatten()(pl)\n",
        "\n",
        "\n",
        "# fusion - combinig both\n",
        "fused = tf.concat([averaged, flattened], axis=-1)\n",
        "\n",
        "# multi-task learning (each is a multi-class classification)\n",
        "# one dense layer for each task\n",
        "p_type = Dense(len_type, activation='softmax', name='type')(fused)\n",
        "p_price = Dense(len_price, activation='softmax', name='price')(fused)\n",
        "\n",
        "\n",
        "# define model input/output using keys.\n",
        "model = keras.Model(\n",
        "    inputs={\n",
        "        'summary': in_text,\n",
        "        'image': in_image\n",
        "    },\n",
        "    outputs={\n",
        "        'type': p_type,\n",
        "        'price': p_price,\n",
        "    },\n",
        ")\n",
        "\n",
        "# compile model with optimizer, loss values for each task, loss \n",
        "# weights for each task.\n",
        "model.compile(\n",
        "    optimizer=Adam(),\n",
        "    loss={\n",
        "        'type': 'sparse_categorical_crossentropy',\n",
        "        'price': 'sparse_categorical_crossentropy',\n",
        "    },\n",
        "    loss_weights={\n",
        "        'type': 0.5,\n",
        "        'price': 0.5,       \n",
        "    },\n",
        "    metrics={\n",
        "        'type': ['SparseCategoricalAccuracy'],\n",
        "        'price': ['SparseCategoricalAccuracy'],\n",
        "    },\n",
        ")\n",
        "\n",
        "\n",
        "model.summary()"
      ]
    },
    {
      "cell_type": "code",
      "execution_count": 28,
      "metadata": {
        "id": "lJll38DL5Z70",
        "colab": {
          "base_uri": "https://localhost:8080/"
        },
        "outputId": "c9f6d04a-d10b-4ca2-c92d-13b7c42f74e2"
      },
      "outputs": [
        {
          "output_type": "stream",
          "name": "stdout",
          "text": [
            "Epoch 1/25\n",
            "147/147 [==============================] - 62s 408ms/step - loss: 1.1166 - price_loss: 0.8647 - type_loss: 1.3685 - price_sparse_categorical_accuracy: 0.6143 - type_sparse_categorical_accuracy: 0.7464 - val_loss: 0.9457 - val_price_loss: 0.8457 - val_type_loss: 1.0456 - val_price_sparse_categorical_accuracy: 0.6032 - val_type_sparse_categorical_accuracy: 0.7415\n",
            "Epoch 2/25\n",
            "147/147 [==============================] - 54s 365ms/step - loss: 0.9127 - price_loss: 0.8268 - type_loss: 0.9986 - price_sparse_categorical_accuracy: 0.6237 - type_sparse_categorical_accuracy: 0.7587 - val_loss: 0.9457 - val_price_loss: 0.8398 - val_type_loss: 1.0515 - val_price_sparse_categorical_accuracy: 0.6032 - val_type_sparse_categorical_accuracy: 0.7415\n",
            "Epoch 3/25\n",
            "147/147 [==============================] - 55s 377ms/step - loss: 0.9069 - price_loss: 0.8189 - type_loss: 0.9948 - price_sparse_categorical_accuracy: 0.6237 - type_sparse_categorical_accuracy: 0.7587 - val_loss: 0.9306 - val_price_loss: 0.8270 - val_type_loss: 1.0342 - val_price_sparse_categorical_accuracy: 0.6032 - val_type_sparse_categorical_accuracy: 0.7415\n",
            "Epoch 4/25\n",
            "147/147 [==============================] - 54s 365ms/step - loss: 0.8950 - price_loss: 0.8036 - type_loss: 0.9864 - price_sparse_categorical_accuracy: 0.6252 - type_sparse_categorical_accuracy: 0.7587 - val_loss: 0.9162 - val_price_loss: 0.8092 - val_type_loss: 1.0231 - val_price_sparse_categorical_accuracy: 0.6118 - val_type_sparse_categorical_accuracy: 0.7415\n",
            "Epoch 5/25\n",
            "147/147 [==============================] - 53s 363ms/step - loss: 0.8763 - price_loss: 0.7783 - type_loss: 0.9744 - price_sparse_categorical_accuracy: 0.6359 - type_sparse_categorical_accuracy: 0.7587 - val_loss: 0.9054 - val_price_loss: 0.7949 - val_type_loss: 1.0159 - val_price_sparse_categorical_accuracy: 0.6510 - val_type_sparse_categorical_accuracy: 0.7415\n",
            "Epoch 6/25\n",
            "147/147 [==============================] - 55s 371ms/step - loss: 0.8567 - price_loss: 0.7539 - type_loss: 0.9595 - price_sparse_categorical_accuracy: 0.6666 - type_sparse_categorical_accuracy: 0.7587 - val_loss: 0.8838 - val_price_loss: 0.7679 - val_type_loss: 0.9998 - val_price_sparse_categorical_accuracy: 0.6544 - val_type_sparse_categorical_accuracy: 0.7415\n",
            "Epoch 7/25\n",
            "147/147 [==============================] - 56s 378ms/step - loss: 0.8336 - price_loss: 0.7249 - type_loss: 0.9423 - price_sparse_categorical_accuracy: 0.6781 - type_sparse_categorical_accuracy: 0.7587 - val_loss: 0.8703 - val_price_loss: 0.7551 - val_type_loss: 0.9854 - val_price_sparse_categorical_accuracy: 0.6672 - val_type_sparse_categorical_accuracy: 0.7415\n",
            "Epoch 8/25\n",
            "147/147 [==============================] - 55s 377ms/step - loss: 0.8118 - price_loss: 0.7024 - type_loss: 0.9213 - price_sparse_categorical_accuracy: 0.6990 - type_sparse_categorical_accuracy: 0.7587 - val_loss: 0.8570 - val_price_loss: 0.7426 - val_type_loss: 0.9713 - val_price_sparse_categorical_accuracy: 0.6681 - val_type_sparse_categorical_accuracy: 0.7415\n",
            "Epoch 9/25\n",
            "147/147 [==============================] - 56s 384ms/step - loss: 0.7920 - price_loss: 0.6847 - type_loss: 0.8993 - price_sparse_categorical_accuracy: 0.7061 - type_sparse_categorical_accuracy: 0.7590 - val_loss: 0.8411 - val_price_loss: 0.7369 - val_type_loss: 0.9453 - val_price_sparse_categorical_accuracy: 0.6783 - val_type_sparse_categorical_accuracy: 0.7415\n",
            "Epoch 10/25\n",
            "147/147 [==============================] - 56s 384ms/step - loss: 0.7726 - price_loss: 0.6661 - type_loss: 0.8790 - price_sparse_categorical_accuracy: 0.7137 - type_sparse_categorical_accuracy: 0.7590 - val_loss: 0.8314 - val_price_loss: 0.7272 - val_type_loss: 0.9356 - val_price_sparse_categorical_accuracy: 0.6826 - val_type_sparse_categorical_accuracy: 0.7423\n",
            "Epoch 11/25\n",
            "147/147 [==============================] - 56s 380ms/step - loss: 0.7526 - price_loss: 0.6496 - type_loss: 0.8556 - price_sparse_categorical_accuracy: 0.7225 - type_sparse_categorical_accuracy: 0.7605 - val_loss: 0.8181 - val_price_loss: 0.7238 - val_type_loss: 0.9124 - val_price_sparse_categorical_accuracy: 0.6800 - val_type_sparse_categorical_accuracy: 0.7466\n",
            "Epoch 12/25\n",
            "147/147 [==============================] - 56s 380ms/step - loss: 0.7329 - price_loss: 0.6338 - type_loss: 0.8321 - price_sparse_categorical_accuracy: 0.7302 - type_sparse_categorical_accuracy: 0.7649 - val_loss: 0.8100 - val_price_loss: 0.7199 - val_type_loss: 0.9001 - val_price_sparse_categorical_accuracy: 0.6869 - val_type_sparse_categorical_accuracy: 0.7483\n",
            "Epoch 13/25\n",
            "147/147 [==============================] - 55s 377ms/step - loss: 0.7141 - price_loss: 0.6191 - type_loss: 0.8091 - price_sparse_categorical_accuracy: 0.7361 - type_sparse_categorical_accuracy: 0.7681 - val_loss: 0.8042 - val_price_loss: 0.7225 - val_type_loss: 0.8860 - val_price_sparse_categorical_accuracy: 0.6792 - val_type_sparse_categorical_accuracy: 0.7517\n",
            "Epoch 14/25\n",
            "147/147 [==============================] - 56s 382ms/step - loss: 0.6979 - price_loss: 0.6068 - type_loss: 0.7891 - price_sparse_categorical_accuracy: 0.7438 - type_sparse_categorical_accuracy: 0.7733 - val_loss: 0.7923 - val_price_loss: 0.7149 - val_type_loss: 0.8697 - val_price_sparse_categorical_accuracy: 0.6817 - val_type_sparse_categorical_accuracy: 0.7560\n",
            "Epoch 15/25\n",
            "147/147 [==============================] - 55s 375ms/step - loss: 0.6810 - price_loss: 0.5935 - type_loss: 0.7686 - price_sparse_categorical_accuracy: 0.7543 - type_sparse_categorical_accuracy: 0.7782 - val_loss: 0.7878 - val_price_loss: 0.7142 - val_type_loss: 0.8614 - val_price_sparse_categorical_accuracy: 0.6834 - val_type_sparse_categorical_accuracy: 0.7534\n",
            "Epoch 16/25\n",
            "147/147 [==============================] - 56s 381ms/step - loss: 0.6659 - price_loss: 0.5823 - type_loss: 0.7495 - price_sparse_categorical_accuracy: 0.7609 - type_sparse_categorical_accuracy: 0.7856 - val_loss: 0.7976 - val_price_loss: 0.7203 - val_type_loss: 0.8748 - val_price_sparse_categorical_accuracy: 0.6800 - val_type_sparse_categorical_accuracy: 0.7534\n",
            "Epoch 17/25\n",
            "147/147 [==============================] - 57s 387ms/step - loss: 0.6510 - price_loss: 0.5719 - type_loss: 0.7302 - price_sparse_categorical_accuracy: 0.7671 - type_sparse_categorical_accuracy: 0.7886 - val_loss: 0.7823 - val_price_loss: 0.7271 - val_type_loss: 0.8375 - val_price_sparse_categorical_accuracy: 0.6758 - val_type_sparse_categorical_accuracy: 0.7619\n",
            "Epoch 18/25\n",
            "147/147 [==============================] - 59s 399ms/step - loss: 0.6353 - price_loss: 0.5594 - type_loss: 0.7112 - price_sparse_categorical_accuracy: 0.7726 - type_sparse_categorical_accuracy: 0.7935 - val_loss: 0.7764 - val_price_loss: 0.7198 - val_type_loss: 0.8331 - val_price_sparse_categorical_accuracy: 0.6715 - val_type_sparse_categorical_accuracy: 0.7602\n",
            "Epoch 19/25\n",
            "147/147 [==============================] - 58s 398ms/step - loss: 0.6208 - price_loss: 0.5481 - type_loss: 0.6935 - price_sparse_categorical_accuracy: 0.7794 - type_sparse_categorical_accuracy: 0.7999 - val_loss: 0.7721 - val_price_loss: 0.7213 - val_type_loss: 0.8228 - val_price_sparse_categorical_accuracy: 0.6817 - val_type_sparse_categorical_accuracy: 0.7628\n",
            "Epoch 20/25\n",
            "147/147 [==============================] - 58s 394ms/step - loss: 0.6073 - price_loss: 0.5385 - type_loss: 0.6761 - price_sparse_categorical_accuracy: 0.7822 - type_sparse_categorical_accuracy: 0.8059 - val_loss: 0.7739 - val_price_loss: 0.7333 - val_type_loss: 0.8145 - val_price_sparse_categorical_accuracy: 0.6613 - val_type_sparse_categorical_accuracy: 0.7705\n"
          ]
        }
      ],
      "source": [
        "#let's train model\n",
        "history = model.fit(\n",
        "    x={\n",
        "        'summary': x_train_text_id,\n",
        "        'image': x_train_image\n",
        "    },\n",
        "    y={\n",
        "        'type': y_train_type,\n",
        "        'price': y_train_price,\n",
        "    },\n",
        "    epochs=25,\n",
        "    batch_size=32,\n",
        "    validation_split=0.2,\n",
        "    callbacks=[\n",
        "        tf.keras.callbacks.EarlyStopping(monitor='val_price_loss', patience=5)\n",
        "    ],\n",
        "    verbose=1\n",
        ")"
      ]
    },
    {
      "cell_type": "code",
      "execution_count": 29,
      "metadata": {
        "id": "0MYOHvtqtnfC"
      },
      "outputs": [],
      "source": [
        "def results_viz(history):\n",
        "\n",
        "  # generate a figure containing 3 plots displayed horizontally\n",
        "  fig, (ax1, ax2, ax3) = plt.subplots(1, 3, figsize=(20,4))\n",
        "  fig.suptitle('Model Results')\n",
        "  \n",
        "  # first we display the training price accuracy vs. the validation price accuracy\n",
        "  ax1.plot(history.history['price_sparse_categorical_accuracy'])\n",
        "  ax1.plot(history.history['val_price_sparse_categorical_accuracy'])\n",
        "  ax1.set_title('price accuracy')\n",
        "  ax1.set_ylabel('accuracy')\n",
        "  ax1.set_xlabel('epoch')\n",
        "  ax1.legend(['train_price', 'validation_price'], loc='upper left')\n",
        "\n",
        "  # same with the other specified accuracy metric, type accuracy\n",
        "  ax2.plot(history.history['type_sparse_categorical_accuracy'])\n",
        "  ax2.plot(history.history['val_type_sparse_categorical_accuracy'])\n",
        "  ax2.set_title('type accuracy')\n",
        "  ax2.set_ylabel('accuracy')\n",
        "  ax2.set_xlabel('epoch')\n",
        "  ax2.legend(['train_type', 'validation_type'], loc='upper left')\n",
        "\n",
        "  # on the last axis, we plot the training loss against the validation loss (w.r.t. price and type combined)\n",
        "  ax3.plot(history.history['loss'])\n",
        "  ax3.plot(history.history['val_loss'])\n",
        "  ax3.set_title('model loss')\n",
        "  ax3.set_ylabel('loss')\n",
        "  ax3.set_xlabel('epoch')\n",
        "  ax3.legend(['train', 'validation'], loc='upper left')\n",
        "\n",
        "  plt.show() # display the figure\n"
      ]
    },
    {
      "cell_type": "code",
      "execution_count": 30,
      "metadata": {
        "id": "JD8n7-EOum10",
        "colab": {
          "base_uri": "https://localhost:8080/",
          "height": 303
        },
        "outputId": "0ef50ee5-54ac-4d44-f13f-18f01a15393c"
      },
      "outputs": [
        {
          "output_type": "display_data",
          "data": {
            "text/plain": [
              "<Figure size 1440x288 with 3 Axes>"
            ],
            "image/png": "[encoded data removed]"
          },
          "metadata": {
            "needs_background": "light"
          }
        }
      ],
      "source": [
        "results_viz(history)"
      ]
    },
    {
      "cell_type": "markdown",
      "metadata": {
        "id": "loRdEyAoy384"
      },
      "source": [
        "Score on kaggle is: 0.67798"
      ]
    },
    {
      "cell_type": "code",
      "execution_count": 31,
      "metadata": {
        "id": "dohqVrEm8H42",
        "colab": {
          "base_uri": "https://localhost:8080/",
          "height": 49,
          "referenced_widgets": [
            "8b2807acb86f4d169616017afefcdc29",
            "3e35ba72427d418190b3b6a7d282e20a",
            "638377c2cb2c44feadd4a7435283500e",
            "7b4065e037a440e7bd175f76a6002a26",
            "bac533055c5e4087b563d8af28c7f5ee",
            "1730ab37309a4692954fffede1a7a6ef",
            "9aba10e2fe2a425aba385a361094ac5c",
            "e54a89eb8596436e9c081125a2c46b30",
            "6e72e2e3510a4f938d680aaf1d19a033",
            "418dd167af7c425fbb5b6840f1384b69",
            "0743de2115e54db592d83c34a98fa129"
          ]
        },
        "outputId": "145c6e01-da19-4d9b-b5b3-df6c85c431d8"
      },
      "outputs": [
        {
          "output_type": "display_data",
          "data": {
            "text/plain": [
              "  0%|          | 0/7360 [00:00<?, ?it/s]"
            ],
            "application/vnd.jupyter.widget-view+json": {
              "version_major": 2,
              "version_minor": 0,
              "model_id": "8b2807acb86f4d169616017afefcdc29"
            }
          },
          "metadata": {}
        }
      ],
      "source": [
        "# loading images:\n",
        "x_test_image = np.array([load_image(i) for i in tqdm(test.image)])\n",
        "\n",
        "# loading overview: (force convert some of the non-string cell to string)\n",
        "x_test_text = _preprocess(test.summary.astype('str'))"
      ]
    },
    {
      "cell_type": "code",
      "execution_count": 32,
      "metadata": {
        "id": "G3b_L5g-mylB",
        "colab": {
          "base_uri": "https://localhost:8080/"
        },
        "outputId": "71d714e6-77e8-4a39-88e2-14daede30efa"
      },
      "outputs": [
        {
          "output_type": "execute_result",
          "data": {
            "text/plain": [
              "(array([[0.48462126, 0.40970656, 0.10567216],\n",
              "        [0.88959813, 0.08768424, 0.02271762],\n",
              "        [0.78613454, 0.14629127, 0.0675742 ],\n",
              "        ...,\n",
              "        [0.6909975 , 0.256865  , 0.05213744],\n",
              "        [0.9398172 , 0.03892314, 0.02125959],\n",
              "        [0.635276  , 0.30364206, 0.06108187]], dtype=float32),\n",
              " array([0, 0, 0, ..., 0, 0, 0]))"
            ]
          },
          "metadata": {},
          "execution_count": 32
        }
      ],
      "source": [
        "# we can do prediction on training set\n",
        "y_predict = model.predict(\n",
        "    {\n",
        "        'summary': x_test_text,\n",
        "        'image': x_test_image\n",
        "    })\n",
        "\n",
        "# probabilities\n",
        "type_predicted = y_predict['type']\n",
        "type_category_predicted = np.argmax(type_predicted, axis=1)\n",
        "\n",
        "price_predicted = y_predict['price']\n",
        "price_category_predicted = np.argmax(price_predicted, axis=1)\n",
        "\n",
        "price_predicted,price_category_predicted"
      ]
    },
    {
      "cell_type": "code",
      "execution_count": 33,
      "metadata": {
        "id": "yahIWIg28uL1"
      },
      "outputs": [],
      "source": [
        "#  (if for kaggle competition and it is about price prediction)\n",
        "pd.DataFrame({'id': test.id,'price': price_category_predicted}).to_csv('sample_submission.csv', index=False)"
      ]
    },
    {
      "cell_type": "markdown",
      "metadata": {
        "id": "Ew4A-9zvzLnx"
      },
      "source": [
        "Good result but I expect better for next trials."
      ]
    },
    {
      "cell_type": "markdown",
      "metadata": {
        "id": "ao-3nXe5Tysf"
      },
      "source": [
        "##Trail 2\n",
        "In this trial we'll use LSTM and I expect higher score and I'll add dropout layer too.\n",
        "\n",
        "Multimodality with multi object learning.\n",
        "\n",
        "Dropout should reduce overfitting."
      ]
    },
    {
      "cell_type": "code",
      "execution_count": 34,
      "metadata": {
        "id": "x1v_EPIhTxYs",
        "colab": {
          "base_uri": "https://localhost:8080/"
        },
        "outputId": "575e9ca0-79e3-495d-aebe-bb7fe8163c19"
      },
      "outputs": [
        {
          "output_type": "stream",
          "name": "stdout",
          "text": [
            "Model: \"model_1\"\n",
            "__________________________________________________________________________________________________\n",
            " Layer (type)                   Output Shape         Param #     Connected to                     \n",
            "==================================================================================================\n",
            " input_4 (InputLayer)           [(None, 64, 64, 2)]  0           []                               \n",
            "                                                                                                  \n",
            " conv2d_1 (Conv2D)              (None, 57, 57, 64)   8256        ['input_4[0][0]']                \n",
            "                                                                                                  \n",
            " max_pooling2d_1 (MaxPooling2D)  (None, 7, 7, 64)    0           ['conv2d_1[0][0]']               \n",
            "                                                                                                  \n",
            " input_3 (InputLayer)           [(None, 300)]        0           []                               \n",
            "                                                                                                  \n",
            " dropout (Dropout)              (None, 7, 7, 64)     0           ['max_pooling2d_1[0][0]']        \n",
            "                                                                                                  \n",
            " embedding_1 (Embedding)        (None, 300, 250)     20000000    ['input_3[0][0]']                \n",
            "                                                                                                  \n",
            " conv2d_2 (Conv2D)              (None, 4, 4, 64)     65600       ['dropout[0][0]']                \n",
            "                                                                                                  \n",
            " spatial_dropout1d (SpatialDrop  (None, 300, 250)    0           ['embedding_1[0][0]']            \n",
            " out1D)                                                                                           \n",
            "                                                                                                  \n",
            " max_pooling2d_2 (MaxPooling2D)  (None, 1, 1, 64)    0           ['conv2d_2[0][0]']               \n",
            "                                                                                                  \n",
            " lstm (LSTM)                    (None, 300, 64)      80640       ['spatial_dropout1d[0][0]']      \n",
            "                                                                                                  \n",
            " dropout_1 (Dropout)            (None, 1, 1, 64)     0           ['max_pooling2d_2[0][0]']        \n",
            "                                                                                                  \n",
            " tf.math.reduce_mean_1 (TFOpLam  (None, 64)          0           ['lstm[0][0]']                   \n",
            " bda)                                                                                             \n",
            "                                                                                                  \n",
            " flatten_1 (Flatten)            (None, 64)           0           ['dropout_1[0][0]']              \n",
            "                                                                                                  \n",
            " tf.concat_1 (TFOpLambda)       (None, 128)          0           ['tf.math.reduce_mean_1[0][0]',  \n",
            "                                                                  'flatten_1[0][0]']              \n",
            "                                                                                                  \n",
            " price (Dense)                  (None, 3)            387         ['tf.concat_1[0][0]']            \n",
            "                                                                                                  \n",
            " type (Dense)                   (None, 24)           3096        ['tf.concat_1[0][0]']            \n",
            "                                                                                                  \n",
            "==================================================================================================\n",
            "Total params: 20,157,979\n",
            "Trainable params: 20,157,979\n",
            "Non-trainable params: 0\n",
            "__________________________________________________________________________________________________\n"
          ]
        },
        {
          "output_type": "stream",
          "name": "stderr",
          "text": [
            "/usr/local/lib/python3.7/dist-packages/keras/optimizer_v2/adam.py:105: UserWarning: The `lr` argument is deprecated, use `learning_rate` instead.\n",
            "  super(Adam, self).__init__(name, **kwargs)\n"
          ]
        }
      ],
      "source": [
        "from __future__ import absolute_import, division, print_function, unicode_literals\n",
        "import collections\n",
        "import matplotlib.pyplot as plt\n",
        "import numpy as np\n",
        "import tensorflow as tf\n",
        "from tensorflow import keras\n",
        "from tensorflow.keras.layers import Conv2D, Flatten, Dense, MaxPool2D,LSTM\n",
        "from tensorflow.keras.optimizers import Adam\n",
        "from keras.layers.core import Dense, SpatialDropout1D,Dropout\n",
        "from keras.layers import SimpleRNN\n",
        "from keras import regularizers\n",
        "# here we have two inputs. one for image and the other for text.\n",
        "in_text = keras.Input(batch_shape=(None, max_len))\n",
        "in_image = keras.Input(batch_shape=(None, 64, 64, 2))\n",
        "\n",
        "# text part\n",
        "# simple average of embedding. you can change it to anything else as needed\n",
        "embedded = keras.layers.Embedding(tokenizer.num_words, 250)(in_text)\n",
        "spatial=SpatialDropout1D(0.2)(embedded)\n",
        "lstm=LSTM(64,dropout=0.2,return_sequences=True)(spatial)\n",
        "averaged = tf.reduce_mean(lstm, axis=1)\n",
        "\n",
        "#images part\n",
        "cov = Conv2D(64, (8, 8),activation='relu',kernel_regularizer=regularizers.l2(0.01),kernel_initializer='he_uniform')(in_image)\n",
        "pl = MaxPool2D(pool_size=(8, 8))(cov)#,strides=(1,1),padding='same')(cov) \n",
        "d1=Dropout(0.25)(pl)\n",
        "cov2 = Conv2D(64, (4, 4),kernel_regularizer=regularizers.l2(0.01),activation='relu')(d1)\n",
        "p2 = MaxPool2D((4, 4))(cov2)#,strides=(1,1),padding='same')(cov2)\n",
        "d2=Dropout(0.25)(p2)\n",
        "flattened = Flatten()(d2)\n",
        "\n",
        "\n",
        "# fusion - combinig both\n",
        "fused = tf.concat([averaged, flattened], axis=-1)\n",
        "\n",
        "# multi-task learning (each is a multi-class classification)\n",
        "# one dense layer for each task\n",
        "p_type = Dense(len_type, activation='softmax', name='type')(fused)\n",
        "p_price = Dense(len_price, activation='softmax', name='price')(fused)\n",
        "\n",
        "\n",
        "# define model input/output using keys.\n",
        "model_2 = keras.Model(\n",
        "    inputs={'summary': in_text,'image': in_image},\n",
        "    outputs={'type': p_type,'price': p_price,})\n",
        "\n",
        "# compile model with optimizer, loss values for each task, loss \n",
        "# weights for each task.\n",
        "model_2.compile(\n",
        "    optimizer=Adam(lr=0.001),\n",
        "    loss={'type': 'sparse_categorical_crossentropy','price': 'sparse_categorical_crossentropy'},\n",
        "    loss_weights={'type': 0.7,'price': 0.3},\n",
        "    metrics={'type': ['SparseCategoricalAccuracy'],'price': ['SparseCategoricalAccuracy'],}\n",
        "    )\n",
        "\n",
        "model_2.summary()"
      ]
    },
    {
      "cell_type": "code",
      "execution_count": 35,
      "metadata": {
        "id": "22kD1Ol2VXlo",
        "colab": {
          "base_uri": "https://localhost:8080/"
        },
        "outputId": "dc3cf91a-158f-40c8-f19a-56fab9a5fa21"
      },
      "outputs": [
        {
          "output_type": "stream",
          "name": "stdout",
          "text": [
            "Epoch 1/20\n",
            "293/293 [==============================] - 100s 332ms/step - loss: 1.3429 - price_loss: 0.8429 - type_loss: 1.1159 - price_sparse_categorical_accuracy: 0.6163 - type_sparse_categorical_accuracy: 0.7517 - val_loss: 0.9672 - val_price_loss: 0.8375 - val_type_loss: 1.0145 - val_price_sparse_categorical_accuracy: 0.6032 - val_type_sparse_categorical_accuracy: 0.7415\n",
            "Epoch 2/20\n",
            "293/293 [==============================] - 97s 330ms/step - loss: 0.9155 - price_loss: 0.8234 - type_loss: 0.9537 - price_sparse_categorical_accuracy: 0.6233 - type_sparse_categorical_accuracy: 0.7583 - val_loss: 0.9540 - val_price_loss: 0.8474 - val_type_loss: 0.9997 - val_price_sparse_categorical_accuracy: 0.6015 - val_type_sparse_categorical_accuracy: 0.7415\n",
            "Epoch 3/20\n",
            "293/293 [==============================] - 97s 331ms/step - loss: 0.8986 - price_loss: 0.8311 - type_loss: 0.9275 - price_sparse_categorical_accuracy: 0.6175 - type_sparse_categorical_accuracy: 0.7532 - val_loss: 0.9421 - val_price_loss: 0.8424 - val_type_loss: 0.9848 - val_price_sparse_categorical_accuracy: 0.6032 - val_type_sparse_categorical_accuracy: 0.7415\n",
            "Epoch 4/20\n",
            "293/293 [==============================] - 98s 336ms/step - loss: 0.8385 - price_loss: 0.8186 - type_loss: 0.8471 - price_sparse_categorical_accuracy: 0.6237 - type_sparse_categorical_accuracy: 0.7609 - val_loss: 0.9400 - val_price_loss: 0.8420 - val_type_loss: 0.9820 - val_price_sparse_categorical_accuracy: 0.6032 - val_type_sparse_categorical_accuracy: 0.7466\n",
            "Epoch 5/20\n",
            "293/293 [==============================] - 98s 334ms/step - loss: 0.8467 - price_loss: 0.8229 - type_loss: 0.8570 - price_sparse_categorical_accuracy: 0.6199 - type_sparse_categorical_accuracy: 0.7630 - val_loss: 0.9618 - val_price_loss: 0.8471 - val_type_loss: 1.0110 - val_price_sparse_categorical_accuracy: 0.6032 - val_type_sparse_categorical_accuracy: 0.7415\n",
            "Epoch 6/20\n",
            "293/293 [==============================] - 98s 334ms/step - loss: 0.8101 - price_loss: 0.8205 - type_loss: 0.8056 - price_sparse_categorical_accuracy: 0.6237 - type_sparse_categorical_accuracy: 0.7718 - val_loss: 0.9733 - val_price_loss: 0.8370 - val_type_loss: 1.0318 - val_price_sparse_categorical_accuracy: 0.6032 - val_type_sparse_categorical_accuracy: 0.7210\n",
            "Epoch 7/20\n",
            "293/293 [==============================] - 98s 334ms/step - loss: 0.8042 - price_loss: 0.8182 - type_loss: 0.7981 - price_sparse_categorical_accuracy: 0.6237 - type_sparse_categorical_accuracy: 0.7756 - val_loss: 0.9489 - val_price_loss: 0.8327 - val_type_loss: 0.9986 - val_price_sparse_categorical_accuracy: 0.6032 - val_type_sparse_categorical_accuracy: 0.7415\n",
            "Epoch 8/20\n",
            "293/293 [==============================] - 99s 337ms/step - loss: 0.7804 - price_loss: 0.8161 - type_loss: 0.7651 - price_sparse_categorical_accuracy: 0.6237 - type_sparse_categorical_accuracy: 0.7794 - val_loss: 0.9724 - val_price_loss: 0.8495 - val_type_loss: 1.0251 - val_price_sparse_categorical_accuracy: 0.6032 - val_type_sparse_categorical_accuracy: 0.7363\n",
            "Epoch 9/20\n",
            "293/293 [==============================] - 98s 333ms/step - loss: 0.7412 - price_loss: 0.8164 - type_loss: 0.7089 - price_sparse_categorical_accuracy: 0.6233 - type_sparse_categorical_accuracy: 0.7920 - val_loss: 0.9642 - val_price_loss: 0.8357 - val_type_loss: 1.0193 - val_price_sparse_categorical_accuracy: 0.6032 - val_type_sparse_categorical_accuracy: 0.7338\n",
            "Epoch 10/20\n",
            "293/293 [==============================] - 98s 334ms/step - loss: 0.7328 - price_loss: 0.8163 - type_loss: 0.6970 - price_sparse_categorical_accuracy: 0.6237 - type_sparse_categorical_accuracy: 0.7971 - val_loss: 0.9708 - val_price_loss: 0.8494 - val_type_loss: 1.0228 - val_price_sparse_categorical_accuracy: 0.6032 - val_type_sparse_categorical_accuracy: 0.7210\n",
            "Epoch 11/20\n",
            "293/293 [==============================] - 99s 337ms/step - loss: 0.7477 - price_loss: 0.8183 - type_loss: 0.7175 - price_sparse_categorical_accuracy: 0.6237 - type_sparse_categorical_accuracy: 0.7974 - val_loss: 0.9678 - val_price_loss: 0.8346 - val_type_loss: 1.0249 - val_price_sparse_categorical_accuracy: 0.6032 - val_type_sparse_categorical_accuracy: 0.7287\n",
            "Epoch 12/20\n",
            "293/293 [==============================] - 99s 338ms/step - loss: 0.7033 - price_loss: 0.8130 - type_loss: 0.6563 - price_sparse_categorical_accuracy: 0.6256 - type_sparse_categorical_accuracy: 0.8059 - val_loss: 0.9695 - val_price_loss: 0.8506 - val_type_loss: 1.0205 - val_price_sparse_categorical_accuracy: 0.6032 - val_type_sparse_categorical_accuracy: 0.7338\n"
          ]
        }
      ],
      "source": [
        "history = model_2.fit(\n",
        "    x={\n",
        "        'summary': x_train_text_id,\n",
        "        'image': x_train_image\n",
        "    },\n",
        "    y={\n",
        "        'type': y_train_type,\n",
        "        'price': y_train_price,\n",
        "    },\n",
        "    epochs=20,\n",
        "    batch_size=16,\n",
        "    validation_split=0.2,\n",
        "    callbacks=[tf.keras.callbacks.EarlyStopping(monitor='val_price_loss', patience=5,)],\n",
        "    verbose=1\n",
        ")"
      ]
    },
    {
      "cell_type": "markdown",
      "metadata": {
        "id": "9bDrJtzYgA3R"
      },
      "source": [
        "Score on kaggle is 0.62038"
      ]
    },
    {
      "cell_type": "code",
      "execution_count": 36,
      "metadata": {
        "id": "GBB_cTtEwC1b",
        "colab": {
          "base_uri": "https://localhost:8080/",
          "height": 303
        },
        "outputId": "e13f7347-a9c8-473a-8d26-071799c0b7e0"
      },
      "outputs": [
        {
          "output_type": "display_data",
          "data": {
            "text/plain": [
              "<Figure size 1440x288 with 3 Axes>"
            ],
            "image/png": "[encoded data removed]"
          },
          "metadata": {
            "needs_background": "light"
          }
        }
      ],
      "source": [
        "results_viz(history)"
      ]
    },
    {
      "cell_type": "code",
      "execution_count": 37,
      "metadata": {
        "id": "xfIE6aesVtrS",
        "colab": {
          "base_uri": "https://localhost:8080/"
        },
        "outputId": "189ede0b-5553-44ee-a2cc-d67d016aeac2"
      },
      "outputs": [
        {
          "output_type": "execute_result",
          "data": {
            "text/plain": [
              "(array([[0.53186125, 0.324633  , 0.1435057 ],\n",
              "        [0.7460283 , 0.21699506, 0.03697661],\n",
              "        [0.5822564 , 0.3133435 , 0.10440014],\n",
              "        ...,\n",
              "        [0.7249884 , 0.23119465, 0.04381698],\n",
              "        [0.52649456, 0.32795218, 0.14555326],\n",
              "        [0.67876345, 0.2664708 , 0.05476579]], dtype=float32),\n",
              " array([0, 0, 0, ..., 0, 0, 0]))"
            ]
          },
          "metadata": {},
          "execution_count": 37
        }
      ],
      "source": [
        "# we can do prediction on training set\n",
        "y_predict_2 = model_2.predict({'summary': x_test_text,'image': x_test_image})\n",
        "\n",
        "# probabilities\n",
        "type_predicted_2 = y_predict_2['type']\n",
        "type_category_predicted_2 = np.argmax(type_predicted_2, axis=1)\n",
        "\n",
        "price_predicted_2 = y_predict_2['price']\n",
        "price_category_predicted_2 = np.argmax(price_predicted_2, axis=1)\n",
        "price_predicted_2,price_category_predicted_2"
      ]
    },
    {
      "cell_type": "code",
      "execution_count": 38,
      "metadata": {
        "id": "YAsL4ax6V-PZ"
      },
      "outputs": [],
      "source": [
        "#  (if for kaggle competition and it is about genre prediction)\n",
        "pd.DataFrame({'id': test.id,'price': price_category_predicted_2}).to_csv('sample_submission_LSTM.csv', index=False)"
      ]
    },
    {
      "cell_type": "markdown",
      "metadata": {
        "id": "hiK2iaWMh-n8"
      },
      "source": [
        "Score is not better, not like my expectations, there's overfitting."
      ]
    },
    {
      "cell_type": "markdown",
      "metadata": {
        "id": "LDttOSHBo7UT"
      },
      "source": [
        "##Trial 3\n",
        "Using BiDirectional learning with text input only and Multi-objective learning."
      ]
    },
    {
      "cell_type": "code",
      "execution_count": 39,
      "metadata": {
        "id": "89RZIspVo9lv",
        "colab": {
          "base_uri": "https://localhost:8080/"
        },
        "outputId": "83abafec-18fe-4df0-a3a4-828c19324df4"
      },
      "outputs": [
        {
          "output_type": "stream",
          "name": "stdout",
          "text": [
            "Model: \"model_2\"\n",
            "__________________________________________________________________________________________________\n",
            " Layer (type)                   Output Shape         Param #     Connected to                     \n",
            "==================================================================================================\n",
            " input_5 (InputLayer)           [(None, 300)]        0           []                               \n",
            "                                                                                                  \n",
            " embedding_2 (Embedding)        (None, 300, 250)     20000000    ['input_5[0][0]']                \n",
            "                                                                                                  \n",
            " spatial_dropout1d_1 (SpatialDr  (None, 300, 250)    0           ['embedding_2[0][0]']            \n",
            " opout1D)                                                                                         \n",
            "                                                                                                  \n",
            " bidirectional (Bidirectional)  (None, 256)          291840      ['spatial_dropout1d_1[0][0]']    \n",
            "                                                                                                  \n",
            " price (Dense)                  (None, 3)            771         ['bidirectional[0][0]']          \n",
            "                                                                                                  \n",
            " type (Dense)                   (None, 24)           6168        ['bidirectional[0][0]']          \n",
            "                                                                                                  \n",
            "==================================================================================================\n",
            "Total params: 20,298,779\n",
            "Trainable params: 20,298,779\n",
            "Non-trainable params: 0\n",
            "__________________________________________________________________________________________________\n"
          ]
        },
        {
          "output_type": "stream",
          "name": "stderr",
          "text": [
            "/usr/local/lib/python3.7/dist-packages/keras/optimizer_v2/adam.py:105: UserWarning: The `lr` argument is deprecated, use `learning_rate` instead.\n",
            "  super(Adam, self).__init__(name, **kwargs)\n"
          ]
        }
      ],
      "source": [
        "from __future__ import absolute_import, division, print_function, unicode_literals\n",
        "import collections\n",
        "import matplotlib.pyplot as plt\n",
        "import numpy as np\n",
        "import tensorflow as tf\n",
        "from tensorflow import keras\n",
        "from tensorflow.keras.layers import Conv2D, Flatten, Dense, MaxPool2D,LSTM,GRU\n",
        "from tensorflow.keras.optimizers import Adam\n",
        "from keras.layers.core import Dense, SpatialDropout1D,Dropout\n",
        "from keras.layers import SimpleRNN\n",
        "from keras import regularizers\n",
        "# here we have one input. one for text.\n",
        "in_text = keras.Input(batch_shape=(None, max_len))\n",
        "\n",
        "# text part\n",
        "# simple average of embedding\n",
        "embedded = keras.layers.Embedding(tokenizer.num_words, 250)(in_text)\n",
        "spatial= SpatialDropout1D(0.2)(embedded)\n",
        "bi = Bidirectional(GRU(128,dropout=0.2, recurrent_regularizer='l2'))(spatial)\n",
        "\n",
        "# multi-task learning (each is a multi-class classification)\n",
        "# one dense layer for each task\n",
        "p_type = Dense(len_type, activation='softmax', name='type')(bi)\n",
        "p_price = Dense(len_price, activation='softmax', name='price')(bi)\n",
        "\n",
        "# define model input/output using keys.\n",
        "model_3 = keras.Model(\n",
        "    inputs={'summary': in_text},\n",
        "    outputs={'type': p_type,'price': p_price,},\n",
        ")\n",
        "\n",
        "# compile model with optimizer, loss values for each task, loss \n",
        "# weights for each task.\n",
        "model_3.compile(\n",
        "    optimizer=Adam(lr=0.01),\n",
        "    loss={'type': 'sparse_categorical_crossentropy','price': 'sparse_categorical_crossentropy'},\n",
        "    loss_weights={'type': 0.5,'price': 0.5},\n",
        "    metrics={'type': ['SparseCategoricalAccuracy'],'price': ['SparseCategoricalAccuracy'],},)\n",
        "\n",
        "model_3.summary()"
      ]
    },
    {
      "cell_type": "code",
      "execution_count": 40,
      "metadata": {
        "id": "XKXiueVCzezM",
        "colab": {
          "base_uri": "https://localhost:8080/"
        },
        "outputId": "4f10c7a2-6909-422d-a27a-95d045002983"
      },
      "outputs": [
        {
          "output_type": "stream",
          "name": "stdout",
          "text": [
            "Epoch 1/30\n",
            "293/293 [==============================] - 156s 521ms/step - loss: 0.9706 - price_loss: 0.8211 - type_loss: 0.9613 - price_sparse_categorical_accuracy: 0.6218 - type_sparse_categorical_accuracy: 0.7594 - val_loss: 0.8416 - val_price_loss: 0.7733 - val_type_loss: 0.8348 - val_price_sparse_categorical_accuracy: 0.6399 - val_type_sparse_categorical_accuracy: 0.7568\n",
            "Epoch 2/30\n",
            "293/293 [==============================] - 155s 528ms/step - loss: 0.7730 - price_loss: 0.6982 - type_loss: 0.7132 - price_sparse_categorical_accuracy: 0.7041 - type_sparse_categorical_accuracy: 0.7991 - val_loss: 0.9364 - val_price_loss: 0.8718 - val_type_loss: 0.8427 - val_price_sparse_categorical_accuracy: 0.6263 - val_type_sparse_categorical_accuracy: 0.7765\n",
            "Epoch 3/30\n",
            "293/293 [==============================] - 152s 520ms/step - loss: 0.6925 - price_loss: 0.6138 - type_loss: 0.5359 - price_sparse_categorical_accuracy: 0.7485 - type_sparse_categorical_accuracy: 0.8426 - val_loss: 1.1448 - val_price_loss: 0.9165 - val_type_loss: 1.0897 - val_price_sparse_categorical_accuracy: 0.6288 - val_type_sparse_categorical_accuracy: 0.7440\n",
            "Epoch 4/30\n",
            "293/293 [==============================] - 151s 517ms/step - loss: 0.6169 - price_loss: 0.5177 - type_loss: 0.4293 - price_sparse_categorical_accuracy: 0.7967 - type_sparse_categorical_accuracy: 0.8673 - val_loss: 1.4307 - val_price_loss: 1.1071 - val_type_loss: 1.3541 - val_price_sparse_categorical_accuracy: 0.6058 - val_type_sparse_categorical_accuracy: 0.7526\n",
            "Epoch 5/30\n",
            "293/293 [==============================] - 151s 517ms/step - loss: 0.5658 - price_loss: 0.4561 - type_loss: 0.3749 - price_sparse_categorical_accuracy: 0.8247 - type_sparse_categorical_accuracy: 0.8833 - val_loss: 1.5643 - val_price_loss: 1.3332 - val_type_loss: 1.4333 - val_price_sparse_categorical_accuracy: 0.5964 - val_type_sparse_categorical_accuracy: 0.7363\n",
            "Epoch 6/30\n",
            "293/293 [==============================] - 151s 514ms/step - loss: 0.4887 - price_loss: 0.3807 - type_loss: 0.3154 - price_sparse_categorical_accuracy: 0.8543 - type_sparse_categorical_accuracy: 0.9044 - val_loss: 1.6216 - val_price_loss: 1.3774 - val_type_loss: 1.4531 - val_price_sparse_categorical_accuracy: 0.6118 - val_type_sparse_categorical_accuracy: 0.7474\n"
          ]
        }
      ],
      "source": [
        "history = model_3.fit(\n",
        "    x={\n",
        "        'summary': x_train_text_id    },\n",
        "    y={\n",
        "        'type': y_train_type,\n",
        "        'price': y_train_price,\n",
        "    },\n",
        "    epochs=30,\n",
        "    batch_size=16,\n",
        "    validation_split=0.2,\n",
        "    callbacks=[tf.keras.callbacks.EarlyStopping(monitor='val_price_loss', patience=5,)],\n",
        "    verbose=1\n",
        ")"
      ]
    },
    {
      "cell_type": "code",
      "execution_count": 41,
      "metadata": {
        "id": "QQmiUrq_wFx3",
        "colab": {
          "base_uri": "https://localhost:8080/",
          "height": 305
        },
        "outputId": "3656f867-2e76-4359-c9c6-c6cddbe383fd"
      },
      "outputs": [
        {
          "output_type": "display_data",
          "data": {
            "text/plain": [
              "<Figure size 1440x288 with 3 Axes>"
            ],
            "image/png": "[encoded data removed]"
          },
          "metadata": {
            "needs_background": "light"
          }
        }
      ],
      "source": [
        "results_viz(history)"
      ]
    },
    {
      "cell_type": "code",
      "execution_count": 42,
      "metadata": {
        "id": "WevDg1lMjq1V",
        "colab": {
          "base_uri": "https://localhost:8080/"
        },
        "outputId": "91b867d1-ced8-4011-c7eb-c0cb3f32c06b"
      },
      "outputs": [
        {
          "output_type": "execute_result",
          "data": {
            "text/plain": [
              "(array([[1.2567221e-01, 8.7296700e-01, 1.3607141e-03],\n",
              "        [9.7504264e-01, 2.3371955e-02, 1.5853717e-03],\n",
              "        [3.5579410e-01, 4.4241697e-01, 2.0178889e-01],\n",
              "        ...,\n",
              "        [1.7225718e-01, 8.2595694e-01, 1.7857716e-03],\n",
              "        [9.9999666e-01, 3.3316437e-06, 5.0008882e-08],\n",
              "        [3.3240344e-02, 9.6576923e-01, 9.9040521e-04]], dtype=float32),\n",
              " array([1, 0, 1, ..., 1, 0, 1]))"
            ]
          },
          "metadata": {},
          "execution_count": 42
        }
      ],
      "source": [
        "# we can do prediction on training set\n",
        "y_predict_3 = model_3.predict({'summary': x_test_text})\n",
        "\n",
        "# probabilities\n",
        "type_predicted_3 = y_predict_3['type']\n",
        "type_category_predicted_3 = np.argmax(type_predicted_3, axis=1)\n",
        "\n",
        "price_predicted_3 = y_predict_3['price']\n",
        "price_category_predicted_3 = np.argmax(price_predicted_3, axis=1)\n",
        "\n",
        "price_predicted_3,price_category_predicted_3"
      ]
    },
    {
      "cell_type": "markdown",
      "metadata": {
        "id": "cgVp4JesgcVA"
      },
      "source": [
        "Using text data only is decreased the accuracy and it is logical.\n",
        "\n",
        "As we see here, there 's overfitting too."
      ]
    },
    {
      "cell_type": "markdown",
      "metadata": {
        "id": "7B9-NBW6WKAf"
      },
      "source": [
        "##Trial 4\n",
        "We will use LSTM with text input and multi objective learning.\n",
        "\n",
        "I expect it'll improve the score because LSTM is very good with text data."
      ]
    },
    {
      "cell_type": "code",
      "execution_count": 43,
      "metadata": {
        "id": "f_Pw8Qyxq6w5"
      },
      "outputs": [],
      "source": [
        "import numpy as np\n",
        "import matplotlib.pyplot as plt\n",
        "plt.style.use('fivethirtyeight')\n",
        "import pandas as pd\n",
        "from sklearn.preprocessing import MinMaxScaler\n",
        "from keras.models import Sequential\n",
        "from keras.layers import Dense, LSTM, Dropout, GRU, Bidirectional,SpatialDropout1D\n",
        "import math\n",
        "from sklearn.metrics import mean_squared_error"
      ]
    },
    {
      "cell_type": "code",
      "execution_count": 44,
      "metadata": {
        "id": "b2JR30rckOWt",
        "colab": {
          "base_uri": "https://localhost:8080/"
        },
        "outputId": "0f93dde9-9132-4622-e0ed-0498a843ad0d"
      },
      "outputs": [
        {
          "output_type": "stream",
          "name": "stdout",
          "text": [
            "Model: \"model_3\"\n",
            "__________________________________________________________________________________________________\n",
            " Layer (type)                   Output Shape         Param #     Connected to                     \n",
            "==================================================================================================\n",
            " input_6 (InputLayer)           [(None, 300)]        0           []                               \n",
            "                                                                                                  \n",
            " embedding_3 (Embedding)        (None, 300, 200)     16000000    ['input_6[0][0]']                \n",
            "                                                                                                  \n",
            " spatial_dropout1d_2 (SpatialDr  (None, 300, 200)    0           ['embedding_3[0][0]']            \n",
            " opout1D)                                                                                         \n",
            "                                                                                                  \n",
            " lstm_1 (LSTM)                  (None, 300, 64)      67840       ['spatial_dropout1d_2[0][0]']    \n",
            "                                                                                                  \n",
            " tf.math.reduce_mean_2 (TFOpLam  (None, 64)          0           ['lstm_1[0][0]']                 \n",
            " bda)                                                                                             \n",
            "                                                                                                  \n",
            " price (Dense)                  (None, 3)            195         ['tf.math.reduce_mean_2[0][0]']  \n",
            "                                                                                                  \n",
            " type (Dense)                   (None, 24)           1560        ['tf.math.reduce_mean_2[0][0]']  \n",
            "                                                                                                  \n",
            "==================================================================================================\n",
            "Total params: 16,069,595\n",
            "Trainable params: 16,069,595\n",
            "Non-trainable params: 0\n",
            "__________________________________________________________________________________________________\n"
          ]
        },
        {
          "output_type": "stream",
          "name": "stderr",
          "text": [
            "/usr/local/lib/python3.7/dist-packages/keras/optimizer_v2/adam.py:105: UserWarning: The `lr` argument is deprecated, use `learning_rate` instead.\n",
            "  super(Adam, self).__init__(name, **kwargs)\n"
          ]
        }
      ],
      "source": [
        "from __future__ import absolute_import, division, print_function, unicode_literals\n",
        "import collections\n",
        "import matplotlib.pyplot as plt\n",
        "import numpy as np\n",
        "import tensorflow as tf\n",
        "from tensorflow import keras\n",
        "from tensorflow.keras.layers import Conv2D, Flatten, Dense, MaxPool2D,LSTM\n",
        "from tensorflow.keras.optimizers import Adam\n",
        "from keras.layers.core import Dense, SpatialDropout1D,Dropout\n",
        "from keras.layers import SimpleRNN\n",
        "from keras import regularizers\n",
        "# here we have one input. one for text.\n",
        "in_text = keras.Input(batch_shape=(None, max_len))\n",
        "\n",
        "# text part\n",
        "# simple average of embedding\n",
        "embedded = keras.layers.Embedding(tokenizer.num_words, 200)(in_text)\n",
        "spatial=SpatialDropout1D(0.2)(embedded)\n",
        "lstm=LSTM(64,dropout=0.2,return_sequences=True)(spatial)\n",
        "averaged = tf.reduce_mean(lstm, axis=1)\n",
        "\n",
        "# multi-task learning (each is a multi-class classification)\n",
        "# one dense layer for each task\n",
        "p_type = Dense(len_type, activation='softmax', name='type')(averaged)\n",
        "p_price = Dense(len_price, activation='softmax', name='price')(averaged)\n",
        "\n",
        "\n",
        "# define model input/output using keys.\n",
        "model_4= keras.Model(\n",
        "    inputs={'summary': in_text},\n",
        "    outputs={'type': p_type,'price': p_price,})\n",
        "\n",
        "# compile model with optimizer, loss values for each task, loss \n",
        "# weights for each task.\n",
        "model_4.compile(\n",
        "    optimizer=Adam(lr=0.001),\n",
        "    loss={'type': 'sparse_categorical_crossentropy','price': 'sparse_categorical_crossentropy'},\n",
        "    loss_weights={'type': 0.7,'price': 0.3},\n",
        "    metrics={'type': ['SparseCategoricalAccuracy'],'price': ['SparseCategoricalAccuracy'],}\n",
        "    )\n",
        "\n",
        "model_4.summary()"
      ]
    },
    {
      "cell_type": "code",
      "execution_count": 45,
      "metadata": {
        "id": "Hy7WhxEutfCH",
        "colab": {
          "base_uri": "https://localhost:8080/"
        },
        "outputId": "024f5575-9997-457f-be62-3686ba392dc3"
      },
      "outputs": [
        {
          "output_type": "stream",
          "name": "stdout",
          "text": [
            "Epoch 1/30\n",
            "293/293 [==============================] - 58s 193ms/step - loss: 1.0142 - price_loss: 0.8508 - type_loss: 1.0842 - price_sparse_categorical_accuracy: 0.5962 - type_sparse_categorical_accuracy: 0.7564 - val_loss: 0.9590 - val_price_loss: 0.8402 - val_type_loss: 1.0098 - val_price_sparse_categorical_accuracy: 0.6032 - val_type_sparse_categorical_accuracy: 0.7415\n",
            "Epoch 2/30\n",
            "293/293 [==============================] - 57s 193ms/step - loss: 0.9075 - price_loss: 0.8242 - type_loss: 0.9432 - price_sparse_categorical_accuracy: 0.6235 - type_sparse_categorical_accuracy: 0.7587 - val_loss: 0.9291 - val_price_loss: 0.8374 - val_type_loss: 0.9684 - val_price_sparse_categorical_accuracy: 0.6032 - val_type_sparse_categorical_accuracy: 0.7415\n",
            "Epoch 3/30\n",
            "293/293 [==============================] - 57s 193ms/step - loss: 0.8805 - price_loss: 0.8226 - type_loss: 0.9053 - price_sparse_categorical_accuracy: 0.6235 - type_sparse_categorical_accuracy: 0.7587 - val_loss: 0.9604 - val_price_loss: 0.8484 - val_type_loss: 1.0083 - val_price_sparse_categorical_accuracy: 0.6032 - val_type_sparse_categorical_accuracy: 0.7415\n",
            "Epoch 4/30\n",
            "293/293 [==============================] - 56s 192ms/step - loss: 0.8502 - price_loss: 0.8233 - type_loss: 0.8617 - price_sparse_categorical_accuracy: 0.6248 - type_sparse_categorical_accuracy: 0.7628 - val_loss: 0.9190 - val_price_loss: 0.8467 - val_type_loss: 0.9499 - val_price_sparse_categorical_accuracy: 0.6032 - val_type_sparse_categorical_accuracy: 0.7483\n",
            "Epoch 5/30\n",
            "293/293 [==============================] - 56s 191ms/step - loss: 0.7929 - price_loss: 0.8213 - type_loss: 0.7808 - price_sparse_categorical_accuracy: 0.6218 - type_sparse_categorical_accuracy: 0.7756 - val_loss: 0.9149 - val_price_loss: 0.8405 - val_type_loss: 0.9468 - val_price_sparse_categorical_accuracy: 0.5939 - val_type_sparse_categorical_accuracy: 0.7491\n",
            "Epoch 6/30\n",
            "293/293 [==============================] - 56s 191ms/step - loss: 0.7671 - price_loss: 0.8207 - type_loss: 0.7442 - price_sparse_categorical_accuracy: 0.6220 - type_sparse_categorical_accuracy: 0.7882 - val_loss: 0.9283 - val_price_loss: 0.8451 - val_type_loss: 0.9640 - val_price_sparse_categorical_accuracy: 0.6032 - val_type_sparse_categorical_accuracy: 0.7440\n",
            "Epoch 7/30\n",
            "293/293 [==============================] - 56s 190ms/step - loss: 0.7582 - price_loss: 0.8188 - type_loss: 0.7322 - price_sparse_categorical_accuracy: 0.6212 - type_sparse_categorical_accuracy: 0.7901 - val_loss: 0.9012 - val_price_loss: 0.8415 - val_type_loss: 0.9268 - val_price_sparse_categorical_accuracy: 0.6032 - val_type_sparse_categorical_accuracy: 0.7346\n"
          ]
        }
      ],
      "source": [
        "history = model_4.fit(\n",
        "    x={\n",
        "        'summary': x_train_text_id    },\n",
        "    y={\n",
        "        'type': y_train_type,\n",
        "        'price': y_train_price,\n",
        "    },\n",
        "    epochs=30,\n",
        "    batch_size=16,\n",
        "    validation_split=0.2,\n",
        "    callbacks=[tf.keras.callbacks.EarlyStopping(monitor='val_price_loss', patience=5,)],\n",
        "    verbose=1\n",
        ")"
      ]
    },
    {
      "cell_type": "code",
      "execution_count": 46,
      "metadata": {
        "id": "UZ_SzZihwIeE",
        "colab": {
          "base_uri": "https://localhost:8080/",
          "height": 291
        },
        "outputId": "e6ee861a-bcae-4024-f555-0042fecf1060"
      },
      "outputs": [
        {
          "output_type": "display_data",
          "data": {
            "text/plain": [
              "<Figure size 1440x288 with 3 Axes>"
            ],
            "image/png": "[encoded data removed]"
          },
          "metadata": {}
        }
      ],
      "source": [
        "results_viz(history)"
      ]
    },
    {
      "cell_type": "code",
      "execution_count": 47,
      "metadata": {
        "id": "0Jr1nYBLKFWu",
        "colab": {
          "base_uri": "https://localhost:8080/"
        },
        "outputId": "32086044-d62d-44f2-84ff-367f0c113f1c"
      },
      "outputs": [
        {
          "output_type": "execute_result",
          "data": {
            "text/plain": [
              "(array([[0.52024966, 0.39453825, 0.08521208],\n",
              "        [0.6547472 , 0.2986531 , 0.04659967],\n",
              "        [0.530274  , 0.39797196, 0.07175407],\n",
              "        ...,\n",
              "        [0.65533996, 0.29882836, 0.04583163],\n",
              "        [0.5300094 , 0.39859813, 0.07139248],\n",
              "        [0.5363846 , 0.40096056, 0.06265489]], dtype=float32),\n",
              " array([0, 0, 0, ..., 0, 0, 0]))"
            ]
          },
          "metadata": {},
          "execution_count": 47
        }
      ],
      "source": [
        "# we can do prediction on training set\n",
        "y_predict_4 = model_4.predict({'summary': x_test_text})\n",
        "\n",
        "# probabilities\n",
        "type_predicted_4 = y_predict_4['type']\n",
        "type_category_predicted_4 = np.argmax(type_predicted_4, axis=1)\n",
        "\n",
        "price_predicted_4 = y_predict_4['price']\n",
        "price_category_predicted_4 = np.argmax(price_predicted_4, axis=1)\n",
        "\n",
        "price_predicted_4,price_category_predicted_4"
      ]
    },
    {
      "cell_type": "markdown",
      "metadata": {
        "id": "XP6H4H1bgx3O"
      },
      "source": [
        "While using LSTM the accuracy is improved but it still overfitting."
      ]
    },
    {
      "cell_type": "markdown",
      "metadata": {
        "id": "4imfwRlfZaFL"
      },
      "source": [
        "##Trial 5\n",
        "Using image inputs with Conv2d layer and multi objective learning."
      ]
    },
    {
      "cell_type": "code",
      "execution_count": 48,
      "metadata": {
        "id": "o0Fsf9nYZlRa",
        "colab": {
          "base_uri": "https://localhost:8080/"
        },
        "outputId": "3a315da8-a0d0-41cf-8c14-063a8452cca4"
      },
      "outputs": [
        {
          "output_type": "stream",
          "name": "stdout",
          "text": [
            "Model: \"model_4\"\n",
            "__________________________________________________________________________________________________\n",
            " Layer (type)                   Output Shape         Param #     Connected to                     \n",
            "==================================================================================================\n",
            " input_7 (InputLayer)           [(None, 64, 64, 2)]  0           []                               \n",
            "                                                                                                  \n",
            " conv2d_3 (Conv2D)              (None, 57, 57, 32)   4128        ['input_7[0][0]']                \n",
            "                                                                                                  \n",
            " max_pooling2d_3 (MaxPooling2D)  (None, 7, 7, 32)    0           ['conv2d_3[0][0]']               \n",
            "                                                                                                  \n",
            " dropout_2 (Dropout)            (None, 7, 7, 32)     0           ['max_pooling2d_3[0][0]']        \n",
            "                                                                                                  \n",
            " conv2d_4 (Conv2D)              (None, 4, 4, 64)     32832       ['dropout_2[0][0]']              \n",
            "                                                                                                  \n",
            " max_pooling2d_4 (MaxPooling2D)  (None, 1, 1, 64)    0           ['conv2d_4[0][0]']               \n",
            "                                                                                                  \n",
            " dropout_3 (Dropout)            (None, 1, 1, 64)     0           ['max_pooling2d_4[0][0]']        \n",
            "                                                                                                  \n",
            " flatten_2 (Flatten)            (None, 64)           0           ['dropout_3[0][0]']              \n",
            "                                                                                                  \n",
            " price (Dense)                  (None, 3)            195         ['flatten_2[0][0]']              \n",
            "                                                                                                  \n",
            " type (Dense)                   (None, 24)           1560        ['flatten_2[0][0]']              \n",
            "                                                                                                  \n",
            "==================================================================================================\n",
            "Total params: 38,715\n",
            "Trainable params: 38,715\n",
            "Non-trainable params: 0\n",
            "__________________________________________________________________________________________________\n"
          ]
        },
        {
          "output_type": "stream",
          "name": "stderr",
          "text": [
            "/usr/local/lib/python3.7/dist-packages/keras/optimizer_v2/adam.py:105: UserWarning: The `lr` argument is deprecated, use `learning_rate` instead.\n",
            "  super(Adam, self).__init__(name, **kwargs)\n"
          ]
        }
      ],
      "source": [
        "# here we have one input. one for image.\n",
        "in_image = keras.Input(batch_shape=(None, 64, 64, 2))\n",
        "\n",
        "#images part\n",
        "cov = Conv2D(32, (8, 8),activation='relu',kernel_regularizer=regularizers.l2(0.01),kernel_initializer='he_uniform')(in_image)\n",
        "pl = MaxPool2D(pool_size=(8, 8))(cov) \n",
        "d1=Dropout(0.25)(pl)\n",
        "cov2 = Conv2D(64, (4, 4),kernel_regularizer=regularizers.l2(0.01),activation='relu')(d1)\n",
        "p2 = MaxPool2D((4, 4))(cov2)\n",
        "d2=Dropout(0.25)(p2)\n",
        "flattened = Flatten()(d2)\n",
        "\n",
        "\n",
        "\n",
        "# multi-objectives (each is a multi-class classification) final layers\n",
        "p_price = Dense(len_price, activation='softmax', name='price')(flattened) #for price c\n",
        "p_type = Dense(len_type, activation='softmax', name='type')(flattened)    #for type category Output Shape: (None, 24)\n",
        "\n",
        "# define model input/output using keys.\n",
        "model_5 = keras.Model(\n",
        "    inputs={'image': in_image},\n",
        "    outputs={'type': p_type,'price': p_price,},\n",
        ")\n",
        "\n",
        "# compile model with optimizer, loss values for each task, loss \n",
        "# weights for each task.\n",
        "model_5.compile(\n",
        "    optimizer=Adam(lr=0.001),\n",
        "    loss={'type': 'sparse_categorical_crossentropy','price': 'sparse_categorical_crossentropy'},\n",
        "    loss_weights={'type': 0.5,'price': 0.5},\n",
        "    metrics={'type': ['SparseCategoricalAccuracy'],'price': ['SparseCategoricalAccuracy'],},\n",
        "    )\n",
        "\n",
        "model_5.summary()"
      ]
    },
    {
      "cell_type": "code",
      "execution_count": 49,
      "metadata": {
        "id": "cbgeXGxAS7T5",
        "colab": {
          "base_uri": "https://localhost:8080/"
        },
        "outputId": "d0defb4a-63e1-49c9-ccdb-5bd795f8d7df"
      },
      "outputs": [
        {
          "output_type": "stream",
          "name": "stdout",
          "text": [
            "Epoch 1/30\n",
            "293/293 [==============================] - 15s 50ms/step - loss: 2.1661 - price_loss: 1.0306 - type_loss: 2.9684 - price_sparse_categorical_accuracy: 0.6237 - type_sparse_categorical_accuracy: 0.7560 - val_loss: 1.8780 - val_price_loss: 0.9808 - val_type_loss: 2.7690 - val_price_sparse_categorical_accuracy: 0.6032 - val_type_sparse_categorical_accuracy: 0.7415\n",
            "Epoch 2/30\n",
            "293/293 [==============================] - 14s 49ms/step - loss: 1.7576 - price_loss: 0.9381 - type_loss: 2.5761 - price_sparse_categorical_accuracy: 0.6237 - type_sparse_categorical_accuracy: 0.7587 - val_loss: 1.6611 - val_price_loss: 0.9177 - val_type_loss: 2.4045 - val_price_sparse_categorical_accuracy: 0.6032 - val_type_sparse_categorical_accuracy: 0.7415\n",
            "Epoch 3/30\n",
            "293/293 [==============================] - 14s 49ms/step - loss: 1.5594 - price_loss: 0.8890 - type_loss: 2.2298 - price_sparse_categorical_accuracy: 0.6237 - type_sparse_categorical_accuracy: 0.7587 - val_loss: 1.4867 - val_price_loss: 0.8851 - val_type_loss: 2.0883 - val_price_sparse_categorical_accuracy: 0.6032 - val_type_sparse_categorical_accuracy: 0.7415\n",
            "Epoch 4/30\n",
            "293/293 [==============================] - 15s 50ms/step - loss: 1.3981 - price_loss: 0.8630 - type_loss: 1.9332 - price_sparse_categorical_accuracy: 0.6237 - type_sparse_categorical_accuracy: 0.7587 - val_loss: 1.3455 - val_price_loss: 0.8677 - val_type_loss: 1.8233 - val_price_sparse_categorical_accuracy: 0.6032 - val_type_sparse_categorical_accuracy: 0.7415\n",
            "Epoch 5/30\n",
            "293/293 [==============================] - 15s 50ms/step - loss: 1.2691 - price_loss: 0.8488 - type_loss: 1.6893 - price_sparse_categorical_accuracy: 0.6237 - type_sparse_categorical_accuracy: 0.7587 - val_loss: 1.2346 - val_price_loss: 0.8576 - val_type_loss: 1.6116 - val_price_sparse_categorical_accuracy: 0.6032 - val_type_sparse_categorical_accuracy: 0.7415\n",
            "Epoch 6/30\n",
            "293/293 [==============================] - 15s 50ms/step - loss: 1.1696 - price_loss: 0.8408 - type_loss: 1.4983 - price_sparse_categorical_accuracy: 0.6237 - type_sparse_categorical_accuracy: 0.7587 - val_loss: 1.1515 - val_price_loss: 0.8520 - val_type_loss: 1.4510 - val_price_sparse_categorical_accuracy: 0.6032 - val_type_sparse_categorical_accuracy: 0.7415\n",
            "Epoch 7/30\n",
            "293/293 [==============================] - 15s 50ms/step - loss: 1.0962 - price_loss: 0.8362 - type_loss: 1.3563 - price_sparse_categorical_accuracy: 0.6237 - type_sparse_categorical_accuracy: 0.7587 - val_loss: 1.0919 - val_price_loss: 0.8486 - val_type_loss: 1.3352 - val_price_sparse_categorical_accuracy: 0.6032 - val_type_sparse_categorical_accuracy: 0.7415\n",
            "Epoch 8/30\n",
            "293/293 [==============================] - 14s 49ms/step - loss: 1.0442 - price_loss: 0.8336 - type_loss: 1.2547 - price_sparse_categorical_accuracy: 0.6237 - type_sparse_categorical_accuracy: 0.7587 - val_loss: 1.0503 - val_price_loss: 0.8466 - val_type_loss: 1.2540 - val_price_sparse_categorical_accuracy: 0.6032 - val_type_sparse_categorical_accuracy: 0.7415\n",
            "Epoch 9/30\n",
            "293/293 [==============================] - 15s 50ms/step - loss: 1.0079 - price_loss: 0.8321 - type_loss: 1.1838 - price_sparse_categorical_accuracy: 0.6237 - type_sparse_categorical_accuracy: 0.7587 - val_loss: 1.0218 - val_price_loss: 0.8455 - val_type_loss: 1.1981 - val_price_sparse_categorical_accuracy: 0.6032 - val_type_sparse_categorical_accuracy: 0.7415\n",
            "Epoch 10/30\n",
            "293/293 [==============================] - 15s 50ms/step - loss: 0.9829 - price_loss: 0.8312 - type_loss: 1.1347 - price_sparse_categorical_accuracy: 0.6237 - type_sparse_categorical_accuracy: 0.7587 - val_loss: 1.0022 - val_price_loss: 0.8446 - val_type_loss: 1.1598 - val_price_sparse_categorical_accuracy: 0.6032 - val_type_sparse_categorical_accuracy: 0.7415\n",
            "Epoch 11/30\n",
            "293/293 [==============================] - 15s 50ms/step - loss: 0.9656 - price_loss: 0.8307 - type_loss: 1.1006 - price_sparse_categorical_accuracy: 0.6237 - type_sparse_categorical_accuracy: 0.7587 - val_loss: 0.9887 - val_price_loss: 0.8443 - val_type_loss: 1.1331 - val_price_sparse_categorical_accuracy: 0.6032 - val_type_sparse_categorical_accuracy: 0.7415\n",
            "Epoch 12/30\n",
            "293/293 [==============================] - 15s 50ms/step - loss: 0.9536 - price_loss: 0.8304 - type_loss: 1.0768 - price_sparse_categorical_accuracy: 0.6237 - type_sparse_categorical_accuracy: 0.7587 - val_loss: 0.9791 - val_price_loss: 0.8439 - val_type_loss: 1.1143 - val_price_sparse_categorical_accuracy: 0.6032 - val_type_sparse_categorical_accuracy: 0.7415\n",
            "Epoch 13/30\n",
            "293/293 [==============================] - 15s 50ms/step - loss: 0.9450 - price_loss: 0.8303 - type_loss: 1.0598 - price_sparse_categorical_accuracy: 0.6237 - type_sparse_categorical_accuracy: 0.7587 - val_loss: 0.9723 - val_price_loss: 0.8439 - val_type_loss: 1.1008 - val_price_sparse_categorical_accuracy: 0.6032 - val_type_sparse_categorical_accuracy: 0.7415\n",
            "Epoch 14/30\n",
            "293/293 [==============================] - 15s 50ms/step - loss: 0.9388 - price_loss: 0.8302 - type_loss: 1.0473 - price_sparse_categorical_accuracy: 0.6237 - type_sparse_categorical_accuracy: 0.7587 - val_loss: 0.9672 - val_price_loss: 0.8438 - val_type_loss: 1.0906 - val_price_sparse_categorical_accuracy: 0.6032 - val_type_sparse_categorical_accuracy: 0.7415\n",
            "Epoch 15/30\n",
            "293/293 [==============================] - 15s 50ms/step - loss: 0.9340 - price_loss: 0.8302 - type_loss: 1.0379 - price_sparse_categorical_accuracy: 0.6237 - type_sparse_categorical_accuracy: 0.7587 - val_loss: 0.9633 - val_price_loss: 0.8438 - val_type_loss: 1.0828 - val_price_sparse_categorical_accuracy: 0.6032 - val_type_sparse_categorical_accuracy: 0.7415\n",
            "Epoch 16/30\n",
            "293/293 [==============================] - 15s 50ms/step - loss: 0.9305 - price_loss: 0.8302 - type_loss: 1.0307 - price_sparse_categorical_accuracy: 0.6237 - type_sparse_categorical_accuracy: 0.7587 - val_loss: 0.9603 - val_price_loss: 0.8439 - val_type_loss: 1.0768 - val_price_sparse_categorical_accuracy: 0.6032 - val_type_sparse_categorical_accuracy: 0.7415\n",
            "Epoch 17/30\n",
            "293/293 [==============================] - 15s 50ms/step - loss: 0.9277 - price_loss: 0.8301 - type_loss: 1.0252 - price_sparse_categorical_accuracy: 0.6237 - type_sparse_categorical_accuracy: 0.7587 - val_loss: 0.9578 - val_price_loss: 0.8438 - val_type_loss: 1.0717 - val_price_sparse_categorical_accuracy: 0.6032 - val_type_sparse_categorical_accuracy: 0.7415\n",
            "Epoch 18/30\n",
            "293/293 [==============================] - 15s 50ms/step - loss: 0.9254 - price_loss: 0.8302 - type_loss: 1.0207 - price_sparse_categorical_accuracy: 0.6237 - type_sparse_categorical_accuracy: 0.7587 - val_loss: 0.9557 - val_price_loss: 0.8438 - val_type_loss: 1.0677 - val_price_sparse_categorical_accuracy: 0.6032 - val_type_sparse_categorical_accuracy: 0.7415\n",
            "Epoch 19/30\n",
            "293/293 [==============================] - 15s 50ms/step - loss: 0.9236 - price_loss: 0.8302 - type_loss: 1.0170 - price_sparse_categorical_accuracy: 0.6237 - type_sparse_categorical_accuracy: 0.7587 - val_loss: 0.9541 - val_price_loss: 0.8439 - val_type_loss: 1.0644 - val_price_sparse_categorical_accuracy: 0.6032 - val_type_sparse_categorical_accuracy: 0.7415\n",
            "Epoch 20/30\n",
            "293/293 [==============================] - 15s 50ms/step - loss: 0.9221 - price_loss: 0.8301 - type_loss: 1.0141 - price_sparse_categorical_accuracy: 0.6237 - type_sparse_categorical_accuracy: 0.7587 - val_loss: 0.9528 - val_price_loss: 0.8439 - val_type_loss: 1.0616 - val_price_sparse_categorical_accuracy: 0.6032 - val_type_sparse_categorical_accuracy: 0.7415\n"
          ]
        }
      ],
      "source": [
        "history = model_5.fit(\n",
        "    x={\n",
        "        'image': x_train_image\n",
        "    },\n",
        "    y={\n",
        "        'type': y_train_type,\n",
        "        'price': y_train_price,\n",
        "    },\n",
        "    epochs=30,\n",
        "    batch_size=16,\n",
        "    validation_split=0.2,\n",
        "    callbacks=[tf.keras.callbacks.EarlyStopping(monitor='val_price_loss', patience=5,)],\n",
        "    verbose=1\n",
        ")"
      ]
    },
    {
      "cell_type": "code",
      "execution_count": 50,
      "metadata": {
        "id": "AyFHX3xkwKzA",
        "colab": {
          "base_uri": "https://localhost:8080/",
          "height": 291
        },
        "outputId": "c5c5fa76-5ecd-40ac-bea2-8d2ccce3c295"
      },
      "outputs": [
        {
          "output_type": "display_data",
          "data": {
            "text/plain": [
              "<Figure size 1440x288 with 3 Axes>"
            ],
            "image/png": "[encoded data removed]"
          },
          "metadata": {}
        }
      ],
      "source": [
        "results_viz(history)"
      ]
    },
    {
      "cell_type": "code",
      "execution_count": 51,
      "metadata": {
        "id": "GNv8vTjhTRTe",
        "colab": {
          "base_uri": "https://localhost:8080/"
        },
        "outputId": "d7c39098-f11e-4e32-98b3-6338990c41e1"
      },
      "outputs": [
        {
          "output_type": "execute_result",
          "data": {
            "text/plain": [
              "(array([[0.625712  , 0.31250018, 0.06178775],\n",
              "        [0.625712  , 0.31250018, 0.06178775],\n",
              "        [0.625712  , 0.31250018, 0.06178775],\n",
              "        ...,\n",
              "        [0.625712  , 0.31250018, 0.06178775],\n",
              "        [0.625712  , 0.31250018, 0.06178775],\n",
              "        [0.625712  , 0.31250018, 0.06178775]], dtype=float32),\n",
              " array([0, 0, 0, ..., 0, 0, 0]))"
            ]
          },
          "metadata": {},
          "execution_count": 51
        }
      ],
      "source": [
        "# we can do prediction on training set\n",
        "y_predict_5 = model_5.predict({'image': x_test_image})\n",
        "\n",
        "# probabilities\n",
        "type_predicted_5 = y_predict_5['type']\n",
        "type_category_predicted_5 = np.argmax(type_predicted_5, axis=1)\n",
        "\n",
        "price_predicted_5 = y_predict_5['price']\n",
        "price_category_predicted_5 = np.argmax(price_predicted_5, axis=1)\n",
        "\n",
        "price_predicted_5,price_category_predicted_5"
      ]
    },
    {
      "cell_type": "code",
      "execution_count": 52,
      "metadata": {
        "id": "5nZ5iQCdTXLG"
      },
      "outputs": [],
      "source": [
        "#  (if for kaggle competition and it is about genre prediction)\n",
        "pd.DataFrame({'id': test.id,'price': price_category_predicted_5}).to_csv('sample_submission_conv_img_only.csv', index=False)"
      ]
    },
    {
      "cell_type": "markdown",
      "metadata": {
        "id": "qsg_adpsZkjA"
      },
      "source": [
        "##Trial 6\n",
        "We'll use image and text inputs with different hyperparameters and predict multi objective."
      ]
    },
    {
      "cell_type": "code",
      "execution_count": 53,
      "metadata": {
        "id": "DL4B_A5nZzj8",
        "colab": {
          "base_uri": "https://localhost:8080/"
        },
        "outputId": "7dfae18b-c7d6-407f-da15-a3299f73b54b"
      },
      "outputs": [
        {
          "output_type": "stream",
          "name": "stdout",
          "text": [
            "Model: \"model_5\"\n",
            "__________________________________________________________________________________________________\n",
            " Layer (type)                   Output Shape         Param #     Connected to                     \n",
            "==================================================================================================\n",
            " input_9 (InputLayer)           [(None, 64, 64, 2)]  0           []                               \n",
            "                                                                                                  \n",
            " conv2d_5 (Conv2D)              (None, 62, 62, 64)   1216        ['input_9[0][0]']                \n",
            "                                                                                                  \n",
            " dropout_4 (Dropout)            (None, 62, 62, 64)   0           ['conv2d_5[0][0]']               \n",
            "                                                                                                  \n",
            " max_pooling2d_5 (MaxPooling2D)  (None, 20, 20, 64)  0           ['dropout_4[0][0]']              \n",
            "                                                                                                  \n",
            " input_8 (InputLayer)           [(None, 300)]        0           []                               \n",
            "                                                                                                  \n",
            " conv2d_6 (Conv2D)              (None, 19, 19, 32)   8224        ['max_pooling2d_5[0][0]']        \n",
            "                                                                                                  \n",
            " embedding_4 (Embedding)        (None, 300, 100)     8000000     ['input_8[0][0]']                \n",
            "                                                                                                  \n",
            " dropout_5 (Dropout)            (None, 19, 19, 32)   0           ['conv2d_6[0][0]']               \n",
            "                                                                                                  \n",
            " multi_head_attention (MultiHea  (None, 300, 100)    1712        ['embedding_4[0][0]',            \n",
            " dAttention)                                                      'embedding_4[0][0]']            \n",
            "                                                                                                  \n",
            " max_pooling2d_6 (MaxPooling2D)  (None, 9, 9, 32)    0           ['dropout_5[0][0]']              \n",
            "                                                                                                  \n",
            " bidirectional_1 (Bidirectional  (None, 40)          14640       ['multi_head_attention[0][0]']   \n",
            " )                                                                                                \n",
            "                                                                                                  \n",
            " flatten_3 (Flatten)            (None, 2592)         0           ['max_pooling2d_6[0][0]']        \n",
            "                                                                                                  \n",
            " tf.concat_2 (TFOpLambda)       (None, 2632)         0           ['bidirectional_1[0][0]',        \n",
            "                                                                  'flatten_3[0][0]']              \n",
            "                                                                                                  \n",
            " price (Dense)                  (None, 3)            7899        ['tf.concat_2[0][0]']            \n",
            "                                                                                                  \n",
            " type (Dense)                   (None, 24)           63192       ['tf.concat_2[0][0]']            \n",
            "                                                                                                  \n",
            "==================================================================================================\n",
            "Total params: 8,096,883\n",
            "Trainable params: 8,096,883\n",
            "Non-trainable params: 0\n",
            "__________________________________________________________________________________________________\n"
          ]
        },
        {
          "output_type": "stream",
          "name": "stderr",
          "text": [
            "/usr/local/lib/python3.7/dist-packages/keras/optimizer_v2/adam.py:105: UserWarning: The `lr` argument is deprecated, use `learning_rate` instead.\n",
            "  super(Adam, self).__init__(name, **kwargs)\n"
          ]
        }
      ],
      "source": [
        "in_text = keras.Input(batch_shape=(None, max_len))\n",
        "in_image = keras.Input(batch_shape=(None, 64, 64, 2)) # input shape for batches of images (size 64x64x2)\n",
        "\n",
        "# text part\n",
        "embedded = keras.layers.Embedding(tokenizer.num_words, 100)(in_text) # get our word embeddings\n",
        "attention = MultiHeadAttention(num_heads=2, key_dim=2)(embedded, embedded) # multi-head attention with 2 heads\n",
        "bi_lstm = Bidirectional(GRU(20, recurrent_regularizer='l2'))(attention)\n",
        "\n",
        "\n",
        "# image part\n",
        "cov = Conv2D(64, (3, 3))(in_image) # convolutional layer with 32 filters\n",
        "drop = Dropout(0.2)(cov) # 20% dropout\n",
        "pl = MaxPool2D((3, 3))(drop) # max pooling with a 3x3 mask\n",
        "cov2 = Conv2D(32, (2,2))(pl) # convolutional layer with 32 filters, and a 2x2 mask, no padding\n",
        "drop2 = Dropout(0.2)(cov2) # 20% dropout\n",
        "pl2 = MaxPool2D((2,2))(drop2) # max pooling with a 2x2 mask\n",
        "flattened = Flatten()(pl2) # flatten the shape\n",
        "\n",
        "# fusion:\n",
        "fused = tf.concat([bi_lstm, flattened], axis=-1) # concatenate text features with images\n",
        "\n",
        "# multi-objectives (each is a multi-class classification)\n",
        "p_price = Dense(len_price, activation='softmax', name='price')(fused) # predict price label 0, 1, or 2\n",
        "p_type = Dense(len_type, activation='softmax', name='type')(fused) # predict rental category label [0-23]\n",
        "\n",
        "# define model input/output using keys.\n",
        "model_6 = keras.Model(\n",
        "    inputs={'summary': in_text,'image': in_image},\n",
        "    outputs={'type': p_type,'price': p_price,})\n",
        "\n",
        "# compile model with optimizer, loss values for each task, loss \n",
        "# weights for each task.\n",
        "model_6.compile(\n",
        "    optimizer=Adam(lr=0.001),\n",
        "    loss={'type': 'sparse_categorical_crossentropy','price': 'sparse_categorical_crossentropy'},\n",
        "    loss_weights={'type': 0.7,'price': 0.3},\n",
        "    metrics={'type': ['SparseCategoricalAccuracy'],'price': ['SparseCategoricalAccuracy'],}\n",
        "    )\n",
        "\n",
        "model_6.summary()"
      ]
    },
    {
      "cell_type": "code",
      "execution_count": 54,
      "metadata": {
        "id": "Yj-ROc0kogBo",
        "colab": {
          "base_uri": "https://localhost:8080/"
        },
        "outputId": "88ca9277-2f6c-4c33-9fd6-42a731b20864"
      },
      "outputs": [
        {
          "output_type": "stream",
          "name": "stdout",
          "text": [
            "Epoch 1/20\n",
            "293/293 [==============================] - 76s 248ms/step - loss: 1.1362 - price_loss: 0.8533 - type_loss: 1.1069 - price_sparse_categorical_accuracy: 0.6163 - type_sparse_categorical_accuracy: 0.7568 - val_loss: 1.0550 - val_price_loss: 0.8460 - val_type_loss: 1.1314 - val_price_sparse_categorical_accuracy: 0.6032 - val_type_sparse_categorical_accuracy: 0.7415\n",
            "Epoch 2/20\n",
            "293/293 [==============================] - 72s 246ms/step - loss: 0.8923 - price_loss: 0.8207 - type_loss: 0.9174 - price_sparse_categorical_accuracy: 0.6244 - type_sparse_categorical_accuracy: 0.7624 - val_loss: 0.9352 - val_price_loss: 0.8438 - val_type_loss: 0.9706 - val_price_sparse_categorical_accuracy: 0.6015 - val_type_sparse_categorical_accuracy: 0.7457\n",
            "Epoch 3/20\n",
            "293/293 [==============================] - 72s 245ms/step - loss: 0.8251 - price_loss: 0.8003 - type_loss: 0.8332 - price_sparse_categorical_accuracy: 0.6284 - type_sparse_categorical_accuracy: 0.7690 - val_loss: 0.9539 - val_price_loss: 0.8467 - val_type_loss: 0.9987 - val_price_sparse_categorical_accuracy: 0.6015 - val_type_sparse_categorical_accuracy: 0.7474\n",
            "Epoch 4/20\n",
            "293/293 [==============================] - 72s 246ms/step - loss: 0.7824 - price_loss: 0.7943 - type_loss: 0.7757 - price_sparse_categorical_accuracy: 0.6284 - type_sparse_categorical_accuracy: 0.7797 - val_loss: 0.9105 - val_price_loss: 0.8236 - val_type_loss: 0.9461 - val_price_sparse_categorical_accuracy: 0.6109 - val_type_sparse_categorical_accuracy: 0.7517\n",
            "Epoch 5/20\n",
            "293/293 [==============================] - 72s 244ms/step - loss: 0.7494 - price_loss: 0.7898 - type_loss: 0.7297 - price_sparse_categorical_accuracy: 0.6235 - type_sparse_categorical_accuracy: 0.7895 - val_loss: 0.8930 - val_price_loss: 0.8246 - val_type_loss: 0.9210 - val_price_sparse_categorical_accuracy: 0.6075 - val_type_sparse_categorical_accuracy: 0.7509\n",
            "Epoch 6/20\n",
            "293/293 [==============================] - 71s 244ms/step - loss: 0.7188 - price_loss: 0.7829 - type_loss: 0.6894 - price_sparse_categorical_accuracy: 0.6273 - type_sparse_categorical_accuracy: 0.8031 - val_loss: 0.9149 - val_price_loss: 0.8433 - val_type_loss: 0.9438 - val_price_sparse_categorical_accuracy: 0.6092 - val_type_sparse_categorical_accuracy: 0.7483\n",
            "Epoch 7/20\n",
            "293/293 [==============================] - 72s 245ms/step - loss: 0.6915 - price_loss: 0.7732 - type_loss: 0.6545 - price_sparse_categorical_accuracy: 0.6348 - type_sparse_categorical_accuracy: 0.8168 - val_loss: 0.8939 - val_price_loss: 0.8104 - val_type_loss: 0.9282 - val_price_sparse_categorical_accuracy: 0.6015 - val_type_sparse_categorical_accuracy: 0.7543\n",
            "Epoch 8/20\n",
            "293/293 [==============================] - 72s 246ms/step - loss: 0.6557 - price_loss: 0.7575 - type_loss: 0.6098 - price_sparse_categorical_accuracy: 0.6380 - type_sparse_categorical_accuracy: 0.8298 - val_loss: 0.9303 - val_price_loss: 0.8472 - val_type_loss: 0.9642 - val_price_sparse_categorical_accuracy: 0.6109 - val_type_sparse_categorical_accuracy: 0.7474\n",
            "Epoch 9/20\n",
            "293/293 [==============================] - 72s 244ms/step - loss: 0.6207 - price_loss: 0.7424 - type_loss: 0.5660 - price_sparse_categorical_accuracy: 0.6570 - type_sparse_categorical_accuracy: 0.8456 - val_loss: 0.9296 - val_price_loss: 0.8271 - val_type_loss: 0.9713 - val_price_sparse_categorical_accuracy: 0.6067 - val_type_sparse_categorical_accuracy: 0.7423\n",
            "Epoch 10/20\n",
            "293/293 [==============================] - 87s 298ms/step - loss: 0.5862 - price_loss: 0.7264 - type_loss: 0.5234 - price_sparse_categorical_accuracy: 0.6779 - type_sparse_categorical_accuracy: 0.8554 - val_loss: 0.9718 - val_price_loss: 0.8450 - val_type_loss: 1.0236 - val_price_sparse_categorical_accuracy: 0.6246 - val_type_sparse_categorical_accuracy: 0.7543\n",
            "Epoch 11/20\n",
            "293/293 [==============================] - 82s 278ms/step - loss: 0.5480 - price_loss: 0.7075 - type_loss: 0.4772 - price_sparse_categorical_accuracy: 0.6907 - type_sparse_categorical_accuracy: 0.8699 - val_loss: 0.9538 - val_price_loss: 0.8521 - val_type_loss: 0.9957 - val_price_sparse_categorical_accuracy: 0.6118 - val_type_sparse_categorical_accuracy: 0.7517\n",
            "Epoch 12/20\n",
            "293/293 [==============================] - 72s 246ms/step - loss: 0.5064 - price_loss: 0.6889 - type_loss: 0.4262 - price_sparse_categorical_accuracy: 0.7084 - type_sparse_categorical_accuracy: 0.8797 - val_loss: 1.1226 - val_price_loss: 1.1578 - val_type_loss: 1.1056 - val_price_sparse_categorical_accuracy: 0.6032 - val_type_sparse_categorical_accuracy: 0.6997\n"
          ]
        }
      ],
      "source": [
        "history = model_6.fit(\n",
        "    x={\n",
        "        'summary': x_train_text_id,\n",
        "        'image': x_train_image\n",
        "    },\n",
        "    y={\n",
        "        'type': y_train_type,\n",
        "        'price': y_train_price,\n",
        "    },\n",
        "    epochs=20,\n",
        "    batch_size=16,\n",
        "    validation_split=0.2,\n",
        "    callbacks=[tf.keras.callbacks.EarlyStopping(monitor='val_price_loss', patience=5,)],\n",
        "    verbose=1\n",
        ")"
      ]
    },
    {
      "cell_type": "code",
      "execution_count": 55,
      "metadata": {
        "id": "y57kThPhwMi5",
        "colab": {
          "base_uri": "https://localhost:8080/",
          "height": 293
        },
        "outputId": "935b000c-0725-4dfa-8ea8-380e4887340a"
      },
      "outputs": [
        {
          "output_type": "display_data",
          "data": {
            "text/plain": [
              "<Figure size 1440x288 with 3 Axes>"
            ],
            "image/png": "[encoded data removed]"
          },
          "metadata": {}
        }
      ],
      "source": [
        "results_viz(history)"
      ]
    },
    {
      "cell_type": "code",
      "execution_count": 56,
      "metadata": {
        "id": "cVAi3kfgokqH",
        "colab": {
          "base_uri": "https://localhost:8080/"
        },
        "outputId": "e002e261-8f32-4fb9-a96c-62090992d814"
      },
      "outputs": [
        {
          "output_type": "execute_result",
          "data": {
            "text/plain": [
              "(array([[0.9286079 , 0.06458138, 0.00681069],\n",
              "        [0.9851746 , 0.01348079, 0.00134458],\n",
              "        [0.9091669 , 0.08096138, 0.00987179],\n",
              "        ...,\n",
              "        [0.9782824 , 0.02036184, 0.00135584],\n",
              "        [0.8582725 , 0.12526612, 0.01646133],\n",
              "        [0.94053507, 0.05299987, 0.00646513]], dtype=float32),\n",
              " array([0, 0, 0, ..., 0, 0, 0]))"
            ]
          },
          "metadata": {},
          "execution_count": 56
        }
      ],
      "source": [
        "# we can do prediction on training set\n",
        "y_predict_6 = model_6.predict({'summary': x_test_text,'image': x_test_image})\n",
        "\n",
        "# probabilities\n",
        "type_predicted_6 = y_predict_6['type']\n",
        "type_category_predicted_6 = np.argmax(type_predicted_6, axis=1)\n",
        "\n",
        "price_predicted_6 = y_predict_6['price']\n",
        "price_category_predicted_6 = np.argmax(price_predicted_6, axis=1)\n",
        "price_predicted_6,price_category_predicted_6"
      ]
    },
    {
      "cell_type": "code",
      "execution_count": 57,
      "metadata": {
        "id": "vsG0kdX8ookM"
      },
      "outputs": [],
      "source": [
        "#  (if for kaggle competition and it is about genre prediction)\n",
        "pd.DataFrame({'id': test.id,'price': price_category_predicted_6}).to_csv('sample_submission_model6.csv', index=False)"
      ]
    },
    {
      "cell_type": "markdown",
      "metadata": {
        "id": "sdhUUS9Qi-ew"
      },
      "source": [
        "##Conclusion"
      ]
    },
    {
      "cell_type": "markdown",
      "metadata": {
        "id": "FvZMdtUrjKYS"
      },
      "source": [
        "As we see, using multi modality learning improves accuracy because we make model see diffrent types of data like we have here (texts,images) and it helps model to make strong decision.\n",
        "Secondly, increasing number of epochs, makes model take long time in training but it gives the model chance to learn more and adding EarlyStoping Function help to stop overfitting.\n",
        "And decreasing batch size is good for the model but it will take much time to learn too."
      ]
    },
    {
      "cell_type": "markdown",
      "metadata": {
        "id": "dLcLQmUU0S_Q"
      },
      "source": [
        "##Problem Formulation\n"
      ]
    },
    {
      "cell_type": "markdown",
      "metadata": {
        "id": "2UZME6NZ0f-o"
      },
      "source": [
        "###The Problem is:"
      ]
    },
    {
      "cell_type": "markdown",
      "metadata": {
        "id": "hD462ITj0uqq"
      },
      "source": [
        "One of the biggest problems when people prepare to post a new listing on airbnb is, how much should one ask for? Of course the most intuitive way is to check how other similar postings price their apartment/house. So in this assignment, we are going to predict the listing price based on the listing characteristics, in this way to optimize user experience and lower the bar to be a new host."
      ]
    },
    {
      "cell_type": "markdown",
      "metadata": {
        "id": "7745nspV0p0n"
      },
      "source": [
        "###What is the input?"
      ]
    },
    {
      "cell_type": "markdown",
      "metadata": {
        "id": "4lhg3Z9K02TU"
      },
      "source": [
        "*   Summary: with text data\n",
        "*   Images: with images data\n"
      ]
    },
    {
      "cell_type": "markdown",
      "metadata": {
        "id": "nfiZMJ_202fR"
      },
      "source": [
        "###What is the output?"
      ]
    },
    {
      "cell_type": "markdown",
      "metadata": {
        "id": "Rz85JeRQ05dX"
      },
      "source": [
        "\n",
        "\n",
        "*   Type\n",
        "*   Price\n",
        "\n",
        "\n"
      ]
    },
    {
      "cell_type": "markdown",
      "metadata": {
        "id": "-ZWljgN805tF"
      },
      "source": [
        "###What data mining function is required?\n"
      ]
    },
    {
      "cell_type": "markdown",
      "metadata": {
        "id": "8iz8ejzV08IV"
      },
      "source": [
        "\n",
        "*   Load and Clean the data\n",
        "*   Lemmatizer function\n",
        "*   Tokenizer function\n",
        "*   StopWords function\n",
        "*   Fill nulls function\n",
        "\n"
      ]
    },
    {
      "cell_type": "markdown",
      "metadata": {
        "id": "PHVZeUoh08N5"
      },
      "source": [
        "###What could be the challenges?\n"
      ]
    },
    {
      "cell_type": "markdown",
      "metadata": {
        "id": "aWdviNjP0_sw"
      },
      "source": [
        "Selecting best hyperparameters that fit this model and clean data because data contains french language and english too we should handle it."
      ]
    },
    {
      "cell_type": "markdown",
      "metadata": {
        "id": "fAIeM7F70_wH"
      },
      "source": [
        "###What is the impact?\n"
      ]
    },
    {
      "cell_type": "markdown",
      "metadata": {
        "id": "gacrHTTi1CQz"
      },
      "source": [
        "Model helps users to find the price for their new listing based on the listing characteristics."
      ]
    },
    {
      "cell_type": "markdown",
      "metadata": {
        "id": "6XMMiJGC1CUK"
      },
      "source": [
        "###What is an ideal solution?\n"
      ]
    },
    {
      "cell_type": "markdown",
      "metadata": {
        "id": "tZV-AqIT1FDB"
      },
      "source": [
        "Using multimodality with one objective."
      ]
    },
    {
      "cell_type": "markdown",
      "metadata": {
        "id": "L0drMLsg1FGi"
      },
      "source": [
        "###What is the experimental protocol used and how was it carried out?\n"
      ]
    },
    {
      "cell_type": "markdown",
      "metadata": {
        "id": "NM8_LI8A1H0n"
      },
      "source": [
        "Using Multi-modality learning and Multi-objective learning.\n",
        "\n",
        "It was the first time to use multi objective and multi modality.\n",
        "\n",
        "We used LSTM, RNN, GRU and CONV2D models and tried to use best hyperparameters that fit each one of them.\n",
        "\n",
        "We selected the learning rate and optimizer then set epochs with earlystop function to reduce overfitting."
      ]
    },
    {
      "cell_type": "markdown",
      "metadata": {
        "id": "2zAdt0Uv1H3-"
      },
      "source": [
        "###How did we tune hyper-parameters in the template? "
      ]
    },
    {
      "cell_type": "markdown",
      "metadata": {
        "id": "YmG0bfQi14Wx"
      },
      "source": [
        "We'll change in number of epochs, batch size, and size of the hold-out set for validation then follow the loss and accuracy and select the hyperparameters depend on them."
      ]
    },
    {
      "cell_type": "markdown",
      "metadata": {
        "id": "LcXnHDz0141d"
      },
      "source": [
        "###What is the search space and what is the criteria to determine good/bad hyper-parameters?"
      ]
    },
    {
      "cell_type": "markdown",
      "metadata": {
        "id": "q2bCavZA16Rv"
      },
      "source": [
        "The search space is defined by the range of values for each parameter in a parameter grid. The criteria used to identify good/bad hyperparameters is the performance metric or loss function, where good hyperparameters improve the performance."
      ]
    },
    {
      "cell_type": "markdown",
      "metadata": {
        "id": "Aze5PHVw1KX2"
      },
      "source": [
        "##Questions"
      ]
    },
    {
      "cell_type": "markdown",
      "metadata": {
        "id": "emL_rbD71Mpe"
      },
      "source": [
        "###🌈Is fully-connected model a good one for sequential data? Why? How about for image data? Is it good? Why?"
      ]
    },
    {
      "cell_type": "markdown",
      "metadata": {
        "id": "mo8LlLhh1Qex"
      },
      "source": [
        "No, It is not a good model for the sequential data as it fails to incorporate the memory dependence. Also it is limited to fixed length. \n",
        "\n",
        "No, It is not good for images, in images it will have many weights in first layer and having so many parameters will result in overfitting."
      ]
    },
    {
      "cell_type": "markdown",
      "metadata": {
        "id": "PbqD1Dvx1RAw"
      },
      "source": [
        "###🌈What is gradient vanishing and gradient explosion, and how GRU/LSTM tries to mitigate this problem?"
      ]
    },
    {
      "cell_type": "markdown",
      "metadata": {
        "id": "G6XeOmMJ1Uuq"
      },
      "source": [
        "Gradient vanishing means that the gradient is too near to zero cause of wieghts value is too small, but explosion is mean the gradient is too large cause of gradient value is larger than 1.\n",
        "\n",
        "GRU and LSTM solve this problem by adding gates to decide what is the ratio that we need to take from each feature and it changes in the way of computing."
      ]
    },
    {
      "cell_type": "markdown",
      "metadata": {
        "id": "IV33yvlZ1Te-"
      },
      "source": [
        "###🌈What is multi-objective/multi-task learning? What is multi-modality learning? How do you use them in this assignment?"
      ]
    },
    {
      "cell_type": "markdown",
      "metadata": {
        "id": "Zjkwofb31Yhs"
      },
      "source": [
        "Multi-objective learning is a machine learning paradigm wherein multiple tasks are solved at the same time to take advantage similarities across multiple learning tasks.\n",
        "\n",
        "Multi-modality learning is used to create a joint statistical representation of a task or process using different modalities or types of media.\n",
        "\n",
        "We used both of them in this assignment, we are carrying out two multi-class classification tasks on both the type of listing, and the price range of the rental listing. Multi-modality learning is used in this assignment to combine the listing summary with an image of the property that is listed to build a joint representation of the listing when training a model."
      ]
    },
    {
      "cell_type": "markdown",
      "metadata": {
        "id": "fNZFb17-1Yx2"
      },
      "source": [
        "###🌈What is the difference among xgboost, lightgbm and catboost\n"
      ]
    },
    {
      "cell_type": "markdown",
      "metadata": {
        "id": "DAYXryD81bx_"
      },
      "source": [
        "LightGBM uses a novel technique of Gradient-based One-Side Sampling (GOSS) to filter out the data instances for finding a split value while XGBoost uses pre-sorted algorithm & Histogram-based algorithm for computing the best split.\n",
        "\n",
        "CatBoost tree can predict extra ordinarily faster than either XGBoost or LightGBM.\n"
      ]
    }
  ],
  "metadata": {
    "colab": {
      "collapsed_sections": [
        "UqlSktIvWRX0",
        "bOVz7eksWYud",
        "7B9-NBW6WKAf",
        "4imfwRlfZaFL",
        "qsg_adpsZkjA",
        "dLcLQmUU0S_Q"
      ],
      "name": "DMAssignment04",
      "provenance": []
    },
    "kernelspec": {
      "display_name": "Python 3",
      "name": "python3"
    },
    "language_info": {
      "name": "python"
    },
    "widgets": {
      "application/vnd.jupyter.widget-state+json": {
        "b1f080843a7a41c7af9f60977efd64f0": {
          "model_module": "@jupyter-widgets/controls",
          "model_name": "HBoxModel",
          "model_module_version": "1.5.0",
          "state": {
            "_dom_classes": [],
            "_model_module": "@jupyter-widgets/controls",
            "_model_module_version": "1.5.0",
            "_model_name": "HBoxModel",
            "_view_count": null,
            "_view_module": "@jupyter-widgets/controls",
            "_view_module_version": "1.5.0",
            "_view_name": "HBoxView",
            "box_style": "",
            "children": [
              "IPY_MODEL_09ae3f1904674e818c954a6f6a34860b",
              "IPY_MODEL_00147f3bff884fadbc7a020a07ad06de",
              "IPY_MODEL_677501caf94f46978203c8cc6ae653d5"
            ],
            "layout": "IPY_MODEL_e2dcc50ca0c74c908a20079b05d72373"
          }
        },
        "09ae3f1904674e818c954a6f6a34860b": {
          "model_module": "@jupyter-widgets/controls",
          "model_name": "HTMLModel",
          "model_module_version": "1.5.0",
          "state": {
            "_dom_classes": [],
            "_model_module": "@jupyter-widgets/controls",
            "_model_module_version": "1.5.0",
            "_model_name": "HTMLModel",
            "_view_count": null,
            "_view_module": "@jupyter-widgets/controls",
            "_view_module_version": "1.5.0",
            "_view_name": "HTMLView",
            "description": "",
            "description_tooltip": null,
            "layout": "IPY_MODEL_9b420a6c7e5940298c56f61ce74150ce",
            "placeholder": "​",
            "style": "IPY_MODEL_4903ea481e484b679c042a03b0c651b1",
            "value": "100%"
          }
        },
        "00147f3bff884fadbc7a020a07ad06de": {
          "model_module": "@jupyter-widgets/controls",
          "model_name": "FloatProgressModel",
          "model_module_version": "1.5.0",
          "state": {
            "_dom_classes": [],
            "_model_module": "@jupyter-widgets/controls",
            "_model_module_version": "1.5.0",
            "_model_name": "FloatProgressModel",
            "_view_count": null,
            "_view_module": "@jupyter-widgets/controls",
            "_view_module_version": "1.5.0",
            "_view_name": "ProgressView",
            "bar_style": "success",
            "description": "",
            "description_tooltip": null,
            "layout": "IPY_MODEL_42e4b066144e46efbbe3134b57297719",
            "max": 5860,
            "min": 0,
            "orientation": "horizontal",
            "style": "IPY_MODEL_d48f843d9be2437e8f4e0be8d006b927",
            "value": 5860
          }
        },
        "677501caf94f46978203c8cc6ae653d5": {
          "model_module": "@jupyter-widgets/controls",
          "model_name": "HTMLModel",
          "model_module_version": "1.5.0",
          "state": {
            "_dom_classes": [],
            "_model_module": "@jupyter-widgets/controls",
            "_model_module_version": "1.5.0",
            "_model_name": "HTMLModel",
            "_view_count": null,
            "_view_module": "@jupyter-widgets/controls",
            "_view_module_version": "1.5.0",
            "_view_name": "HTMLView",
            "description": "",
            "description_tooltip": null,
            "layout": "IPY_MODEL_b942d61602af40f289e3d18ceb29ab74",
            "placeholder": "​",
            "style": "IPY_MODEL_be8153665071458baf5469b1e899791c",
            "value": " 5860/5860 [00:00&lt;00:00, 18887.14it/s]"
          }
        },
        "e2dcc50ca0c74c908a20079b05d72373": {
          "model_module": "@jupyter-widgets/base",
          "model_name": "LayoutModel",
          "model_module_version": "1.2.0",
          "state": {
            "_model_module": "@jupyter-widgets/base",
            "_model_module_version": "1.2.0",
            "_model_name": "LayoutModel",
            "_view_count": null,
            "_view_module": "@jupyter-widgets/base",
            "_view_module_version": "1.2.0",
            "_view_name": "LayoutView",
            "align_content": null,
            "align_items": null,
            "align_self": null,
            "border": null,
            "bottom": null,
            "display": null,
            "flex": null,
            "flex_flow": null,
            "grid_area": null,
            "grid_auto_columns": null,
            "grid_auto_flow": null,
            "grid_auto_rows": null,
            "grid_column": null,
            "grid_gap": null,
            "grid_row": null,
            "grid_template_areas": null,
            "grid_template_columns": null,
            "grid_template_rows": null,
            "height": null,
            "justify_content": null,
            "justify_items": null,
            "left": null,
            "margin": null,
            "max_height": null,
            "max_width": null,
            "min_height": null,
            "min_width": null,
            "object_fit": null,
            "object_position": null,
            "order": null,
            "overflow": null,
            "overflow_x": null,
            "overflow_y": null,
            "padding": null,
            "right": null,
            "top": null,
            "visibility": null,
            "width": null
          }
        },
        "9b420a6c7e5940298c56f61ce74150ce": {
          "model_module": "@jupyter-widgets/base",
          "model_name": "LayoutModel",
          "model_module_version": "1.2.0",
          "state": {
            "_model_module": "@jupyter-widgets/base",
            "_model_module_version": "1.2.0",
            "_model_name": "LayoutModel",
            "_view_count": null,
            "_view_module": "@jupyter-widgets/base",
            "_view_module_version": "1.2.0",
            "_view_name": "LayoutView",
            "align_content": null,
            "align_items": null,
            "align_self": null,
            "border": null,
            "bottom": null,
            "display": null,
            "flex": null,
            "flex_flow": null,
            "grid_area": null,
            "grid_auto_columns": null,
            "grid_auto_flow": null,
            "grid_auto_rows": null,
            "grid_column": null,
            "grid_gap": null,
            "grid_row": null,
            "grid_template_areas": null,
            "grid_template_columns": null,
            "grid_template_rows": null,
            "height": null,
            "justify_content": null,
            "justify_items": null,
            "left": null,
            "margin": null,
            "max_height": null,
            "max_width": null,
            "min_height": null,
            "min_width": null,
            "object_fit": null,
            "object_position": null,
            "order": null,
            "overflow": null,
            "overflow_x": null,
            "overflow_y": null,
            "padding": null,
            "right": null,
            "top": null,
            "visibility": null,
            "width": null
          }
        },
        "4903ea481e484b679c042a03b0c651b1": {
          "model_module": "@jupyter-widgets/controls",
          "model_name": "DescriptionStyleModel",
          "model_module_version": "1.5.0",
          "state": {
            "_model_module": "@jupyter-widgets/controls",
            "_model_module_version": "1.5.0",
            "_model_name": "DescriptionStyleModel",
            "_view_count": null,
            "_view_module": "@jupyter-widgets/base",
            "_view_module_version": "1.2.0",
            "_view_name": "StyleView",
            "description_width": ""
          }
        },
        "42e4b066144e46efbbe3134b57297719": {
          "model_module": "@jupyter-widgets/base",
          "model_name": "LayoutModel",
          "model_module_version": "1.2.0",
          "state": {
            "_model_module": "@jupyter-widgets/base",
            "_model_module_version": "1.2.0",
            "_model_name": "LayoutModel",
            "_view_count": null,
            "_view_module": "@jupyter-widgets/base",
            "_view_module_version": "1.2.0",
            "_view_name": "LayoutView",
            "align_content": null,
            "align_items": null,
            "align_self": null,
            "border": null,
            "bottom": null,
            "display": null,
            "flex": null,
            "flex_flow": null,
            "grid_area": null,
            "grid_auto_columns": null,
            "grid_auto_flow": null,
            "grid_auto_rows": null,
            "grid_column": null,
            "grid_gap": null,
            "grid_row": null,
            "grid_template_areas": null,
            "grid_template_columns": null,
            "grid_template_rows": null,
            "height": null,
            "justify_content": null,
            "justify_items": null,
            "left": null,
            "margin": null,
            "max_height": null,
            "max_width": null,
            "min_height": null,
            "min_width": null,
            "object_fit": null,
            "object_position": null,
            "order": null,
            "overflow": null,
            "overflow_x": null,
            "overflow_y": null,
            "padding": null,
            "right": null,
            "top": null,
            "visibility": null,
            "width": null
          }
        },
        "d48f843d9be2437e8f4e0be8d006b927": {
          "model_module": "@jupyter-widgets/controls",
          "model_name": "ProgressStyleModel",
          "model_module_version": "1.5.0",
          "state": {
            "_model_module": "@jupyter-widgets/controls",
            "_model_module_version": "1.5.0",
            "_model_name": "ProgressStyleModel",
            "_view_count": null,
            "_view_module": "@jupyter-widgets/base",
            "_view_module_version": "1.2.0",
            "_view_name": "StyleView",
            "bar_color": null,
            "description_width": ""
          }
        },
        "b942d61602af40f289e3d18ceb29ab74": {
          "model_module": "@jupyter-widgets/base",
          "model_name": "LayoutModel",
          "model_module_version": "1.2.0",
          "state": {
            "_model_module": "@jupyter-widgets/base",
            "_model_module_version": "1.2.0",
            "_model_name": "LayoutModel",
            "_view_count": null,
            "_view_module": "@jupyter-widgets/base",
            "_view_module_version": "1.2.0",
            "_view_name": "LayoutView",
            "align_content": null,
            "align_items": null,
            "align_self": null,
            "border": null,
            "bottom": null,
            "display": null,
            "flex": null,
            "flex_flow": null,
            "grid_area": null,
            "grid_auto_columns": null,
            "grid_auto_flow": null,
            "grid_auto_rows": null,
            "grid_column": null,
            "grid_gap": null,
            "grid_row": null,
            "grid_template_areas": null,
            "grid_template_columns": null,
            "grid_template_rows": null,
            "height": null,
            "justify_content": null,
            "justify_items": null,
            "left": null,
            "margin": null,
            "max_height": null,
            "max_width": null,
            "min_height": null,
            "min_width": null,
            "object_fit": null,
            "object_position": null,
            "order": null,
            "overflow": null,
            "overflow_x": null,
            "overflow_y": null,
            "padding": null,
            "right": null,
            "top": null,
            "visibility": null,
            "width": null
          }
        },
        "be8153665071458baf5469b1e899791c": {
          "model_module": "@jupyter-widgets/controls",
          "model_name": "DescriptionStyleModel",
          "model_module_version": "1.5.0",
          "state": {
            "_model_module": "@jupyter-widgets/controls",
            "_model_module_version": "1.5.0",
            "_model_name": "DescriptionStyleModel",
            "_view_count": null,
            "_view_module": "@jupyter-widgets/base",
            "_view_module_version": "1.2.0",
            "_view_name": "StyleView",
            "description_width": ""
          }
        },
        "8b2807acb86f4d169616017afefcdc29": {
          "model_module": "@jupyter-widgets/controls",
          "model_name": "HBoxModel",
          "model_module_version": "1.5.0",
          "state": {
            "_dom_classes": [],
            "_model_module": "@jupyter-widgets/controls",
            "_model_module_version": "1.5.0",
            "_model_name": "HBoxModel",
            "_view_count": null,
            "_view_module": "@jupyter-widgets/controls",
            "_view_module_version": "1.5.0",
            "_view_name": "HBoxView",
            "box_style": "",
            "children": [
              "IPY_MODEL_3e35ba72427d418190b3b6a7d282e20a",
              "IPY_MODEL_638377c2cb2c44feadd4a7435283500e",
              "IPY_MODEL_7b4065e037a440e7bd175f76a6002a26"
            ],
            "layout": "IPY_MODEL_bac533055c5e4087b563d8af28c7f5ee"
          }
        },
        "3e35ba72427d418190b3b6a7d282e20a": {
          "model_module": "@jupyter-widgets/controls",
          "model_name": "HTMLModel",
          "model_module_version": "1.5.0",
          "state": {
            "_dom_classes": [],
            "_model_module": "@jupyter-widgets/controls",
            "_model_module_version": "1.5.0",
            "_model_name": "HTMLModel",
            "_view_count": null,
            "_view_module": "@jupyter-widgets/controls",
            "_view_module_version": "1.5.0",
            "_view_name": "HTMLView",
            "description": "",
            "description_tooltip": null,
            "layout": "IPY_MODEL_1730ab37309a4692954fffede1a7a6ef",
            "placeholder": "​",
            "style": "IPY_MODEL_9aba10e2fe2a425aba385a361094ac5c",
            "value": "100%"
          }
        },
        "638377c2cb2c44feadd4a7435283500e": {
          "model_module": "@jupyter-widgets/controls",
          "model_name": "FloatProgressModel",
          "model_module_version": "1.5.0",
          "state": {
            "_dom_classes": [],
            "_model_module": "@jupyter-widgets/controls",
            "_model_module_version": "1.5.0",
            "_model_name": "FloatProgressModel",
            "_view_count": null,
            "_view_module": "@jupyter-widgets/controls",
            "_view_module_version": "1.5.0",
            "_view_name": "ProgressView",
            "bar_style": "success",
            "description": "",
            "description_tooltip": null,
            "layout": "IPY_MODEL_e54a89eb8596436e9c081125a2c46b30",
            "max": 7360,
            "min": 0,
            "orientation": "horizontal",
            "style": "IPY_MODEL_6e72e2e3510a4f938d680aaf1d19a033",
            "value": 7360
          }
        },
        "7b4065e037a440e7bd175f76a6002a26": {
          "model_module": "@jupyter-widgets/controls",
          "model_name": "HTMLModel",
          "model_module_version": "1.5.0",
          "state": {
            "_dom_classes": [],
            "_model_module": "@jupyter-widgets/controls",
            "_model_module_version": "1.5.0",
            "_model_name": "HTMLModel",
            "_view_count": null,
            "_view_module": "@jupyter-widgets/controls",
            "_view_module_version": "1.5.0",
            "_view_name": "HTMLView",
            "description": "",
            "description_tooltip": null,
            "layout": "IPY_MODEL_418dd167af7c425fbb5b6840f1384b69",
            "placeholder": "​",
            "style": "IPY_MODEL_0743de2115e54db592d83c34a98fa129",
            "value": " 7360/7360 [00:00&lt;00:00, 13518.09it/s]"
          }
        },
        "bac533055c5e4087b563d8af28c7f5ee": {
          "model_module": "@jupyter-widgets/base",
          "model_name": "LayoutModel",
          "model_module_version": "1.2.0",
          "state": {
            "_model_module": "@jupyter-widgets/base",
            "_model_module_version": "1.2.0",
            "_model_name": "LayoutModel",
            "_view_count": null,
            "_view_module": "@jupyter-widgets/base",
            "_view_module_version": "1.2.0",
            "_view_name": "LayoutView",
            "align_content": null,
            "align_items": null,
            "align_self": null,
            "border": null,
            "bottom": null,
            "display": null,
            "flex": null,
            "flex_flow": null,
            "grid_area": null,
            "grid_auto_columns": null,
            "grid_auto_flow": null,
            "grid_auto_rows": null,
            "grid_column": null,
            "grid_gap": null,
            "grid_row": null,
            "grid_template_areas": null,
            "grid_template_columns": null,
            "grid_template_rows": null,
            "height": null,
            "justify_content": null,
            "justify_items": null,
            "left": null,
            "margin": null,
            "max_height": null,
            "max_width": null,
            "min_height": null,
            "min_width": null,
            "object_fit": null,
            "object_position": null,
            "order": null,
            "overflow": null,
            "overflow_x": null,
            "overflow_y": null,
            "padding": null,
            "right": null,
            "top": null,
            "visibility": null,
            "width": null
          }
        },
        "1730ab37309a4692954fffede1a7a6ef": {
          "model_module": "@jupyter-widgets/base",
          "model_name": "LayoutModel",
          "model_module_version": "1.2.0",
          "state": {
            "_model_module": "@jupyter-widgets/base",
            "_model_module_version": "1.2.0",
            "_model_name": "LayoutModel",
            "_view_count": null,
            "_view_module": "@jupyter-widgets/base",
            "_view_module_version": "1.2.0",
            "_view_name": "LayoutView",
            "align_content": null,
            "align_items": null,
            "align_self": null,
            "border": null,
            "bottom": null,
            "display": null,
            "flex": null,
            "flex_flow": null,
            "grid_area": null,
            "grid_auto_columns": null,
            "grid_auto_flow": null,
            "grid_auto_rows": null,
            "grid_column": null,
            "grid_gap": null,
            "grid_row": null,
            "grid_template_areas": null,
            "grid_template_columns": null,
            "grid_template_rows": null,
            "height": null,
            "justify_content": null,
            "justify_items": null,
            "left": null,
            "margin": null,
            "max_height": null,
            "max_width": null,
            "min_height": null,
            "min_width": null,
            "object_fit": null,
            "object_position": null,
            "order": null,
            "overflow": null,
            "overflow_x": null,
            "overflow_y": null,
            "padding": null,
            "right": null,
            "top": null,
            "visibility": null,
            "width": null
          }
        },
        "9aba10e2fe2a425aba385a361094ac5c": {
          "model_module": "@jupyter-widgets/controls",
          "model_name": "DescriptionStyleModel",
          "model_module_version": "1.5.0",
          "state": {
            "_model_module": "@jupyter-widgets/controls",
            "_model_module_version": "1.5.0",
            "_model_name": "DescriptionStyleModel",
            "_view_count": null,
            "_view_module": "@jupyter-widgets/base",
            "_view_module_version": "1.2.0",
            "_view_name": "StyleView",
            "description_width": ""
          }
        },
        "e54a89eb8596436e9c081125a2c46b30": {
          "model_module": "@jupyter-widgets/base",
          "model_name": "LayoutModel",
          "model_module_version": "1.2.0",
          "state": {
            "_model_module": "@jupyter-widgets/base",
            "_model_module_version": "1.2.0",
            "_model_name": "LayoutModel",
            "_view_count": null,
            "_view_module": "@jupyter-widgets/base",
            "_view_module_version": "1.2.0",
            "_view_name": "LayoutView",
            "align_content": null,
            "align_items": null,
            "align_self": null,
            "border": null,
            "bottom": null,
            "display": null,
            "flex": null,
            "flex_flow": null,
            "grid_area": null,
            "grid_auto_columns": null,
            "grid_auto_flow": null,
            "grid_auto_rows": null,
            "grid_column": null,
            "grid_gap": null,
            "grid_row": null,
            "grid_template_areas": null,
            "grid_template_columns": null,
            "grid_template_rows": null,
            "height": null,
            "justify_content": null,
            "justify_items": null,
            "left": null,
            "margin": null,
            "max_height": null,
            "max_width": null,
            "min_height": null,
            "min_width": null,
            "object_fit": null,
            "object_position": null,
            "order": null,
            "overflow": null,
            "overflow_x": null,
            "overflow_y": null,
            "padding": null,
            "right": null,
            "top": null,
            "visibility": null,
            "width": null
          }
        },
        "6e72e2e3510a4f938d680aaf1d19a033": {
          "model_module": "@jupyter-widgets/controls",
          "model_name": "ProgressStyleModel",
          "model_module_version": "1.5.0",
          "state": {
            "_model_module": "@jupyter-widgets/controls",
            "_model_module_version": "1.5.0",
            "_model_name": "ProgressStyleModel",
            "_view_count": null,
            "_view_module": "@jupyter-widgets/base",
            "_view_module_version": "1.2.0",
            "_view_name": "StyleView",
            "bar_color": null,
            "description_width": ""
          }
        },
        "418dd167af7c425fbb5b6840f1384b69": {
          "model_module": "@jupyter-widgets/base",
          "model_name": "LayoutModel",
          "model_module_version": "1.2.0",
          "state": {
            "_model_module": "@jupyter-widgets/base",
            "_model_module_version": "1.2.0",
            "_model_name": "LayoutModel",
            "_view_count": null,
            "_view_module": "@jupyter-widgets/base",
            "_view_module_version": "1.2.0",
            "_view_name": "LayoutView",
            "align_content": null,
            "align_items": null,
            "align_self": null,
            "border": null,
            "bottom": null,
            "display": null,
            "flex": null,
            "flex_flow": null,
            "grid_area": null,
            "grid_auto_columns": null,
            "grid_auto_flow": null,
            "grid_auto_rows": null,
            "grid_column": null,
            "grid_gap": null,
            "grid_row": null,
            "grid_template_areas": null,
            "grid_template_columns": null,
            "grid_template_rows": null,
            "height": null,
            "justify_content": null,
            "justify_items": null,
            "left": null,
            "margin": null,
            "max_height": null,
            "max_width": null,
            "min_height": null,
            "min_width": null,
            "object_fit": null,
            "object_position": null,
            "order": null,
            "overflow": null,
            "overflow_x": null,
            "overflow_y": null,
            "padding": null,
            "right": null,
            "top": null,
            "visibility": null,
            "width": null
          }
        },
        "0743de2115e54db592d83c34a98fa129": {
          "model_module": "@jupyter-widgets/controls",
          "model_name": "DescriptionStyleModel",
          "model_module_version": "1.5.0",
          "state": {
            "_model_module": "@jupyter-widgets/controls",
            "_model_module_version": "1.5.0",
            "_model_name": "DescriptionStyleModel",
            "_view_count": null,
            "_view_module": "@jupyter-widgets/base",
            "_view_module_version": "1.2.0",
            "_view_name": "StyleView",
            "description_width": ""
          }
        }
      }
    }
  },
  "nbformat": 4,
  "nbformat_minor": 0
}